{
 "cells": [
  {
   "cell_type": "markdown",
   "id": "798a46ff",
   "metadata": {},
   "source": [
    "# GLM Model : Pure Premium Model \n",
    "\n",
    "#### Use SKlean API : Poisson and Gamma Regression\n",
    "\n",
    "Multi-variate Model 02 : Frequency-Severity Method\n",
    "\n",
    "1.Model with cgroup, tgroup\n",
    "\n",
    "2.Model with Annual Milage as a Predictor"
   ]
  },
  {
   "cell_type": "code",
   "execution_count": 1,
   "id": "1e2802e2",
   "metadata": {},
   "outputs": [],
   "source": [
    "import numpy as np\n",
    "import pandas as pd"
   ]
  },
  {
   "cell_type": "code",
   "execution_count": 2,
   "id": "92fa1945",
   "metadata": {},
   "outputs": [],
   "source": [
    "import matplotlib \n",
    "from matplotlib import pyplot as plt\n",
    "import seaborn as sns"
   ]
  },
  {
   "cell_type": "code",
   "execution_count": 3,
   "id": "74d92801",
   "metadata": {},
   "outputs": [],
   "source": [
    "%matplotlib inline"
   ]
  },
  {
   "cell_type": "markdown",
   "id": "a1512bec",
   "metadata": {},
   "source": [
    "## Part 1 : Training Data"
   ]
  },
  {
   "cell_type": "markdown",
   "id": "5d5d610f",
   "metadata": {},
   "source": [
    "### Read Data"
   ]
  },
  {
   "cell_type": "code",
   "execution_count": 3,
   "id": "8300e5ef",
   "metadata": {},
   "outputs": [],
   "source": [
    "data = pd.read_csv('data_purepremium_train.csv')"
   ]
  },
  {
   "cell_type": "code",
   "execution_count": 4,
   "id": "7ec10adb",
   "metadata": {},
   "outputs": [
    {
     "name": "stdout",
     "output_type": "stream",
     "text": [
      "(99947, 8)\n"
     ]
    }
   ],
   "source": [
    "print( data.shape )\n",
    "# data.head(3)"
   ]
  },
  {
   "cell_type": "markdown",
   "id": "fc474937",
   "metadata": {},
   "source": [
    "###  Process Data"
   ]
  },
  {
   "cell_type": "markdown",
   "id": "f1dadc63",
   "metadata": {},
   "source": [
    "Filter Total Loss "
   ]
  },
  {
   "cell_type": "code",
   "execution_count": 5,
   "id": "e4e48ec3",
   "metadata": {},
   "outputs": [
    {
     "name": "stdout",
     "output_type": "stream",
     "text": [
      "ClaimNumber before processing : 4302\n",
      "[95645  4117   178     7]\n",
      "ClaimNumber after processing  : 4125\n",
      "[95822  3942   176     7]\n"
     ]
    }
   ],
   "source": [
    "print( 'ClaimNumber before processing :', np.sum( data.ClaimNum>0) )\n",
    "print(data.groupby(by=['ClaimNum']).size().values )\n",
    "\n",
    "_TotLoss_ = data.apply( lambda x : 0.0 if x.TotLoss<50.0 else x.TotLoss, axis=1 )\n",
    "data['TotLoss']  = _TotLoss_ \n",
    "\n",
    "_ClaimNum_ = data.apply( lambda x : 0.0 if x.TotLoss==0.0 else x.ClaimNum, axis=1 )\n",
    "data['ClaimNum'] = _ClaimNum_\n",
    "\n",
    "print( 'ClaimNumber after processing  :', np.sum( data.ClaimNum>0) )\n",
    "print( data.groupby(by=['ClaimNum']).size().values )"
   ]
  },
  {
   "cell_type": "markdown",
   "id": "8b34203a",
   "metadata": {},
   "source": [
    "Check Agrregate Risks  "
   ]
  },
  {
   "cell_type": "code",
   "execution_count": 6,
   "id": "e74ee03d",
   "metadata": {},
   "outputs": [
    {
     "name": "stdout",
     "output_type": "stream",
     "text": [
      "Claim Frequency : 0.0496\n",
      "Claim Severity  : 2954.24\n",
      "Pure Premium    : 146.54\n"
     ]
    }
   ],
   "source": [
    "print( 'Claim Frequency :', round(data.ClaimNum.sum()/data.EarnExpo.sum(),4) ) \n",
    "print( 'Claim Severity  :', round(data.TotLoss.sum()/data.ClaimNum.sum(),2) ) \n",
    "print( 'Pure Premium    :', round( data.TotLoss.sum()/data.EarnExpo.sum(),2) ) "
   ]
  },
  {
   "cell_type": "markdown",
   "id": "eaef936f",
   "metadata": {},
   "source": [
    "#### Select  Columns"
   ]
  },
  {
   "cell_type": "code",
   "execution_count": 7,
   "id": "82ad0e4b",
   "metadata": {},
   "outputs": [],
   "source": [
    "df = data[['ann_miles','cgroup','tgroup','rateclass','TotLoss','ClaimNum','EarnExpo']]"
   ]
  },
  {
   "cell_type": "markdown",
   "id": "d0d6bdb3",
   "metadata": {},
   "source": [
    "####  Apply One-hot Encoding"
   ]
  },
  {
   "cell_type": "code",
   "execution_count": 8,
   "id": "5cc65e1c",
   "metadata": {},
   "outputs": [],
   "source": [
    "# pd.CategoricalIndex(df.cgroup)"
   ]
  },
  {
   "cell_type": "code",
   "execution_count": 9,
   "id": "a8642b0d",
   "metadata": {},
   "outputs": [],
   "source": [
    "# pd.CategoricalIndex(df.tgroup)"
   ]
  },
  {
   "cell_type": "code",
   "execution_count": 10,
   "id": "2912a620",
   "metadata": {},
   "outputs": [],
   "source": [
    "# pd.CategoricalIndex(df.rateclass)"
   ]
  },
  {
   "cell_type": "code",
   "execution_count": 14,
   "id": "8f3fd8fd",
   "metadata": {},
   "outputs": [],
   "source": [
    "def relevel(data, feature_name, base_level):\n",
    "    \n",
    "    if data[feature_name].dtype=='int':\n",
    "        feature = data[feature_name].astype(str)\n",
    "    else:\n",
    "        feature = data[feature_name]\n",
    "    \n",
    "    categories = pd.CategoricalIndex(feature).categories\n",
    "    categories = categories.to_numpy(dtype='str')\n",
    "    \n",
    "    base_level_index = np.where(categories==str(base_level))[0][0]\n",
    "    \n",
    "    _categories = np.delete( categories, base_level_index )\n",
    "    categories = [str(base_level)] + list(_categories)\n",
    "\n",
    "    releveled_feature = pd.CategoricalIndex(\n",
    "        feature, \n",
    "        categories=categories,\n",
    "        ordered=True)\n",
    "    \n",
    "    releveled_feature = releveled_feature.to_frame()\n",
    "    \n",
    "    return releveled_feature.reset_index(drop=True)"
   ]
  },
  {
   "cell_type": "code",
   "execution_count": 15,
   "id": "ff5178d3",
   "metadata": {},
   "outputs": [],
   "source": [
    "_x1 = relevel(df, 'cgroup', 'A')\n",
    "_x2 = relevel(df, 'tgroup', 6)\n",
    "_x3 = relevel(df, 'rateclass', 1)"
   ]
  },
  {
   "cell_type": "markdown",
   "id": "f9da6860",
   "metadata": {},
   "source": [
    "#### Numerical X"
   ]
  },
  {
   "cell_type": "code",
   "execution_count": 16,
   "id": "e0e32cac",
   "metadata": {},
   "outputs": [],
   "source": [
    "from sklearn.preprocessing import StandardScaler, MinMaxScaler\n",
    "\n",
    "tmp = df[['ann_miles']]\n",
    "\n",
    "scale = MinMaxScaler()\n",
    "tmp = scale.fit_transform(tmp.values)\n",
    "\n",
    "XN = pd.DataFrame(tmp, columns=['ann_miles'])   # X Numerical"
   ]
  },
  {
   "cell_type": "markdown",
   "id": "cb98f4b2",
   "metadata": {},
   "source": [
    "#### Categorical  X"
   ]
  },
  {
   "cell_type": "code",
   "execution_count": 17,
   "id": "905db253",
   "metadata": {},
   "outputs": [],
   "source": [
    "XC = pd.concat([_x1,_x2], axis=1)               # X categorical "
   ]
  },
  {
   "cell_type": "markdown",
   "id": "8c5d9c2c",
   "metadata": {},
   "source": [
    "### Model 1 : Claim Frequency"
   ]
  },
  {
   "cell_type": "markdown",
   "id": "86a0eb43",
   "metadata": {},
   "source": [
    "Get X,y"
   ]
  },
  {
   "cell_type": "code",
   "execution_count": 18,
   "id": "2c6ca66b",
   "metadata": {},
   "outputs": [],
   "source": [
    "_XC_ = pd.get_dummies( XC, drop_first=True )      "
   ]
  },
  {
   "cell_type": "code",
   "execution_count": 19,
   "id": "eac70c16",
   "metadata": {},
   "outputs": [],
   "source": [
    "X = pd.concat([XN,_XC_], axis=1)"
   ]
  },
  {
   "cell_type": "code",
   "execution_count": 20,
   "id": "cadb0b98",
   "metadata": {},
   "outputs": [],
   "source": [
    "y = df.ClaimNum.to_numpy()/df.EarnExpo.to_numpy()"
   ]
  },
  {
   "cell_type": "code",
   "execution_count": 21,
   "id": "8d47883f",
   "metadata": {},
   "outputs": [
    {
     "name": "stdout",
     "output_type": "stream",
     "text": [
      "y min  : 0.0\n",
      "y max  : 12.000000048\n",
      "\n",
      "y mean : 0.050288846763578525\n",
      "y stdev: 0.3064869069994762\n"
     ]
    }
   ],
   "source": [
    "print('y min  :', y.min())\n",
    "print('y max  :', y.max())\n",
    "print('')\n",
    "print('y mean :', np.mean(y) )\n",
    "print('y stdev:', np.std(y) )"
   ]
  },
  {
   "cell_type": "markdown",
   "id": "fe084401",
   "metadata": {},
   "source": [
    "Plot y"
   ]
  },
  {
   "cell_type": "code",
   "execution_count": 22,
   "id": "e9eb724a",
   "metadata": {},
   "outputs": [],
   "source": [
    "# fig, ax = plt.subplots(1,1, figsize=(16,5))\n",
    "# ax.hist( y, bins=21  )\n",
    "# plt.show()"
   ]
  },
  {
   "cell_type": "markdown",
   "id": "2ec4c711",
   "metadata": {},
   "source": [
    "Get weights"
   ]
  },
  {
   "cell_type": "code",
   "execution_count": 23,
   "id": "4018769c",
   "metadata": {},
   "outputs": [],
   "source": [
    "weights = df.EarnExpo.to_numpy()"
   ]
  },
  {
   "cell_type": "markdown",
   "id": "117b97b2",
   "metadata": {},
   "source": [
    "Build model"
   ]
  },
  {
   "cell_type": "code",
   "execution_count": 24,
   "id": "1a4704a3",
   "metadata": {},
   "outputs": [
    {
     "data": {
      "text/html": [
       "<style>#sk-container-id-1 {color: black;background-color: white;}#sk-container-id-1 pre{padding: 0;}#sk-container-id-1 div.sk-toggleable {background-color: white;}#sk-container-id-1 label.sk-toggleable__label {cursor: pointer;display: block;width: 100%;margin-bottom: 0;padding: 0.3em;box-sizing: border-box;text-align: center;}#sk-container-id-1 label.sk-toggleable__label-arrow:before {content: \"▸\";float: left;margin-right: 0.25em;color: #696969;}#sk-container-id-1 label.sk-toggleable__label-arrow:hover:before {color: black;}#sk-container-id-1 div.sk-estimator:hover label.sk-toggleable__label-arrow:before {color: black;}#sk-container-id-1 div.sk-toggleable__content {max-height: 0;max-width: 0;overflow: hidden;text-align: left;background-color: #f0f8ff;}#sk-container-id-1 div.sk-toggleable__content pre {margin: 0.2em;color: black;border-radius: 0.25em;background-color: #f0f8ff;}#sk-container-id-1 input.sk-toggleable__control:checked~div.sk-toggleable__content {max-height: 200px;max-width: 100%;overflow: auto;}#sk-container-id-1 input.sk-toggleable__control:checked~label.sk-toggleable__label-arrow:before {content: \"▾\";}#sk-container-id-1 div.sk-estimator input.sk-toggleable__control:checked~label.sk-toggleable__label {background-color: #d4ebff;}#sk-container-id-1 div.sk-label input.sk-toggleable__control:checked~label.sk-toggleable__label {background-color: #d4ebff;}#sk-container-id-1 input.sk-hidden--visually {border: 0;clip: rect(1px 1px 1px 1px);clip: rect(1px, 1px, 1px, 1px);height: 1px;margin: -1px;overflow: hidden;padding: 0;position: absolute;width: 1px;}#sk-container-id-1 div.sk-estimator {font-family: monospace;background-color: #f0f8ff;border: 1px dotted black;border-radius: 0.25em;box-sizing: border-box;margin-bottom: 0.5em;}#sk-container-id-1 div.sk-estimator:hover {background-color: #d4ebff;}#sk-container-id-1 div.sk-parallel-item::after {content: \"\";width: 100%;border-bottom: 1px solid gray;flex-grow: 1;}#sk-container-id-1 div.sk-label:hover label.sk-toggleable__label {background-color: #d4ebff;}#sk-container-id-1 div.sk-serial::before {content: \"\";position: absolute;border-left: 1px solid gray;box-sizing: border-box;top: 0;bottom: 0;left: 50%;z-index: 0;}#sk-container-id-1 div.sk-serial {display: flex;flex-direction: column;align-items: center;background-color: white;padding-right: 0.2em;padding-left: 0.2em;position: relative;}#sk-container-id-1 div.sk-item {position: relative;z-index: 1;}#sk-container-id-1 div.sk-parallel {display: flex;align-items: stretch;justify-content: center;background-color: white;position: relative;}#sk-container-id-1 div.sk-item::before, #sk-container-id-1 div.sk-parallel-item::before {content: \"\";position: absolute;border-left: 1px solid gray;box-sizing: border-box;top: 0;bottom: 0;left: 50%;z-index: -1;}#sk-container-id-1 div.sk-parallel-item {display: flex;flex-direction: column;z-index: 1;position: relative;background-color: white;}#sk-container-id-1 div.sk-parallel-item:first-child::after {align-self: flex-end;width: 50%;}#sk-container-id-1 div.sk-parallel-item:last-child::after {align-self: flex-start;width: 50%;}#sk-container-id-1 div.sk-parallel-item:only-child::after {width: 0;}#sk-container-id-1 div.sk-dashed-wrapped {border: 1px dashed gray;margin: 0 0.4em 0.5em 0.4em;box-sizing: border-box;padding-bottom: 0.4em;background-color: white;}#sk-container-id-1 div.sk-label label {font-family: monospace;font-weight: bold;display: inline-block;line-height: 1.2em;}#sk-container-id-1 div.sk-label-container {text-align: center;}#sk-container-id-1 div.sk-container {/* jupyter's `normalize.less` sets `[hidden] { display: none; }` but bootstrap.min.css set `[hidden] { display: none !important; }` so we also need the `!important` here to be able to override the default hidden behavior on the sphinx rendered scikit-learn.org. See: https://github.com/scikit-learn/scikit-learn/issues/21755 */display: inline-block !important;position: relative;}#sk-container-id-1 div.sk-text-repr-fallback {display: none;}</style><div id=\"sk-container-id-1\" class=\"sk-top-container\"><div class=\"sk-text-repr-fallback\"><pre>PoissonRegressor(alpha=0.0001)</pre><b>In a Jupyter environment, please rerun this cell to show the HTML representation or trust the notebook. <br />On GitHub, the HTML representation is unable to render, please try loading this page with nbviewer.org.</b></div><div class=\"sk-container\" hidden><div class=\"sk-item\"><div class=\"sk-estimator sk-toggleable\"><input class=\"sk-toggleable__control sk-hidden--visually\" id=\"sk-estimator-id-1\" type=\"checkbox\" checked><label for=\"sk-estimator-id-1\" class=\"sk-toggleable__label sk-toggleable__label-arrow\">PoissonRegressor</label><div class=\"sk-toggleable__content\"><pre>PoissonRegressor(alpha=0.0001)</pre></div></div></div></div></div>"
      ],
      "text/plain": [
       "PoissonRegressor(alpha=0.0001)"
      ]
     },
     "execution_count": 24,
     "metadata": {},
     "output_type": "execute_result"
    }
   ],
   "source": [
    "from sklearn import linear_model\n",
    "model_frequency = linear_model.PoissonRegressor(alpha=0.0001, fit_intercept=True)\n",
    "\n",
    "model_frequency.fit(X, y, sample_weight=weights)"
   ]
  },
  {
   "cell_type": "code",
   "execution_count": 25,
   "id": "d33a4740",
   "metadata": {
    "scrolled": true
   },
   "outputs": [
    {
     "data": {
      "text/plain": [
       "0.025469767657984588"
      ]
     },
     "execution_count": 25,
     "metadata": {},
     "output_type": "execute_result"
    }
   ],
   "source": [
    "model_frequency.score(X, y)"
   ]
  },
  {
   "cell_type": "markdown",
   "id": "e4d4495f",
   "metadata": {},
   "source": [
    "Claim Frequency Prediction"
   ]
  },
  {
   "cell_type": "code",
   "execution_count": 26,
   "id": "a2b0d1ad",
   "metadata": {},
   "outputs": [
    {
     "data": {
      "text/plain": [
       "array([0.05761888, 0.04195795, 0.04087482, 0.04076834, 0.04415251])"
      ]
     },
     "execution_count": 26,
     "metadata": {},
     "output_type": "execute_result"
    }
   ],
   "source": [
    "y_pred_f = model_frequency.predict(X)\n",
    "y_pred_f[0:5]"
   ]
  },
  {
   "cell_type": "markdown",
   "id": "a59cdcf3",
   "metadata": {},
   "source": [
    "Summary Statistics of Claim Frequency Prediction"
   ]
  },
  {
   "cell_type": "code",
   "execution_count": 27,
   "id": "9ccf5bd9",
   "metadata": {},
   "outputs": [
    {
     "data": {
      "text/plain": [
       "array([0.02737787, 0.03661606, 0.04471902, 0.05590375, 0.46117223])"
      ]
     },
     "execution_count": 27,
     "metadata": {},
     "output_type": "execute_result"
    }
   ],
   "source": [
    "np.quantile( y_pred_f, q=(0.0,0.25,0.50,0.75,1.0) )"
   ]
  },
  {
   "cell_type": "markdown",
   "id": "22802512",
   "metadata": {},
   "source": [
    "Claim Count Predic1tion"
   ]
  },
  {
   "cell_type": "code",
   "execution_count": 28,
   "id": "3a05d921",
   "metadata": {},
   "outputs": [
    {
     "data": {
      "text/plain": [
       "array([0.05761888, 0.02797197, 0.04087482, 0.04076834, 0.04415251])"
      ]
     },
     "execution_count": 28,
     "metadata": {},
     "output_type": "execute_result"
    }
   ],
   "source": [
    "pred_count = weights * y_pred_f\n",
    "pred_count[0:5]"
   ]
  },
  {
   "cell_type": "code",
   "execution_count": 29,
   "id": "1a0cddde",
   "metadata": {},
   "outputs": [
    {
     "data": {
      "text/plain": [
       "array([0.00229566, 0.03229864, 0.04011664, 0.05166957, 0.45823973])"
      ]
     },
     "execution_count": 29,
     "metadata": {},
     "output_type": "execute_result"
    }
   ],
   "source": [
    "np.quantile( pred_count, q=(0.0,0.25,0.50,0.75,1.0) )"
   ]
  },
  {
   "cell_type": "code",
   "execution_count": 30,
   "id": "da58f106",
   "metadata": {},
   "outputs": [
    {
     "name": "stdout",
     "output_type": "stream",
     "text": [
      "actual claim count    : 4315.0\n",
      "predicted claim count : 4315.37\n"
     ]
    }
   ],
   "source": [
    "print( 'actual claim count    :', df.ClaimNum.sum() )\n",
    "print( 'predicted claim count :', round(sum(pred_count),2) )"
   ]
  },
  {
   "cell_type": "markdown",
   "id": "00f0ad48",
   "metadata": {},
   "source": [
    "Model Coefficients"
   ]
  },
  {
   "cell_type": "code",
   "execution_count": 31,
   "id": "b69dbf6b",
   "metadata": {},
   "outputs": [],
   "source": [
    "# print( model_frequency.intercept_ )\n",
    "# print( model_frequency.coef_[0:1] )\n",
    "# print( model_frequency.coef_[1:] )"
   ]
  },
  {
   "cell_type": "code",
   "execution_count": 32,
   "id": "810ba5f7",
   "metadata": {},
   "outputs": [],
   "source": [
    "# print(model_frequency.feature_names_in_)\n",
    "# print( len(model_frequency.feature_names_in_) )"
   ]
  },
  {
   "cell_type": "markdown",
   "id": "56d31198",
   "metadata": {},
   "source": [
    "Plot Model Coefficients"
   ]
  },
  {
   "cell_type": "code",
   "execution_count": 33,
   "id": "b8d33cb7",
   "metadata": {},
   "outputs": [
    {
     "data": {
      "image/png": "[encoded data removed]",
      "text/plain": [
       "<Figure size 1296x288 with 1 Axes>"
      ]
     },
     "metadata": {
      "needs_background": "light"
     },
     "output_type": "display_data"
    }
   ],
   "source": [
    "fig = plt.figure( figsize=(18,4) )\n",
    "\n",
    "_coef = [0.0] + list(model_frequency.coef_[1:5])  \n",
    "\n",
    "\n",
    "dx = np.sort(df.cgroup.unique())\n",
    "dy =  np.zeros( len(dx) )\n",
    "plt.plot(dx, dy, color='black', linestyle='dotted')\n",
    "\n",
    "plt.scatter( np.sort(df.cgroup.unique()), _coef, color='black')\n",
    "plt.scatter( np.sort(df.cgroup.unique())[0], _coef[0], s=100, color='red')\n",
    "plt.plot(dx, _coef)\n",
    "\n",
    "\n",
    "plt.xticks(dx)\n",
    "# plt.ylim(-0.2, 1.0)\n",
    "plt.xlabel('Cgroup Rating Class', fontdict={'size':16})\n",
    "plt.ylabel('Frequency Model Coefficients', fontdict={'size':16})\n",
    "\n",
    "\n",
    "plt.show()"
   ]
  },
  {
   "cell_type": "code",
   "execution_count": 34,
   "id": "75ecf6a3",
   "metadata": {},
   "outputs": [
    {
     "data": {
      "image/png": "[encoded data removed]",
      "text/plain": [
       "<Figure size 1296x288 with 1 Axes>"
      ]
     },
     "metadata": {
      "needs_background": "light"
     },
     "output_type": "display_data"
    }
   ],
   "source": [
    "fig = plt.figure( figsize=(18,4) )\n",
    "\n",
    "_coef = list(model_frequency.coef_[5:10]) + [0.0]\n",
    "\n",
    "\n",
    "dx = np.sort(df.tgroup.unique())\n",
    "dy =  np.zeros( len(dx) )\n",
    "plt.plot(dx, dy, color='black', linestyle='dotted')\n",
    "\n",
    "plt.scatter( np.sort(df.tgroup.unique()), _coef, color='black')\n",
    "plt.scatter( np.sort(df.tgroup.unique())[5], _coef[5], s=100, color='red')\n",
    "plt.plot(dx, _coef)\n",
    "\n",
    "\n",
    "plt.xticks(dx)\n",
    "plt.ylim(-1.0, 0.2)\n",
    "plt.xlabel('Territory Group', fontdict={'size':16})\n",
    "plt.ylabel('Frequency Model Coefficients', fontdict={'size':16})\n",
    "\n",
    "\n",
    "plt.show()"
   ]
  },
  {
   "cell_type": "markdown",
   "id": "e14d693a",
   "metadata": {},
   "source": [
    "Estimate Claim Frequency "
   ]
  },
  {
   "cell_type": "code",
   "execution_count": 36,
   "id": "76ba7d91",
   "metadata": {},
   "outputs": [],
   "source": [
    "key = np.array(\n",
    "    ['intercept', \n",
    "     'ann_miles',\n",
    "     'cgroup_A','cgroup_B','cgroup_I','cgroup_M','cgroup_S',\n",
    "     'tgroup_6','tgroup_1','tgroup_2','tgroup_3','tgroup_4','tgroup_5']\n",
    ")\n",
    "\n",
    "val = [model_frequency.intercept_] + list(model_frequency.coef_[0:1]) + [0.0] + list(model_frequency.coef_)[1:5] \n",
    "val = val + [0.0] + list(model_frequency.coef_)[5:] \n",
    "val = np.array([round(x,8) for x in val])\n",
    "\n",
    "rel = np.array([ round(np.exp(x),8) for x in val]) "
   ]
  },
  {
   "cell_type": "code",
   "execution_count": 37,
   "id": "c60b4674",
   "metadata": {},
   "outputs": [],
   "source": [
    "_xn = XN\n",
    "_xc = pd.get_dummies( XC, drop_first=False )\n",
    "_xx = pd.concat([_xn, _xc], axis=1)\n",
    "\n",
    "_bf = pd.DataFrame( np.column_stack((key,val,rel)), columns=['Feature','Estimate','Relativity'])"
   ]
  },
  {
   "cell_type": "code",
   "execution_count": 38,
   "id": "3fa3f76f",
   "metadata": {},
   "outputs": [
    {
     "data": {
      "text/html": [
       "<div>\n",
       "<style scoped>\n",
       "    .dataframe tbody tr th:only-of-type {\n",
       "        vertical-align: middle;\n",
       "    }\n",
       "\n",
       "    .dataframe tbody tr th {\n",
       "        vertical-align: top;\n",
       "    }\n",
       "\n",
       "    .dataframe thead th {\n",
       "        text-align: right;\n",
       "    }\n",
       "</style>\n",
       "<table border=\"1\" class=\"dataframe\">\n",
       "  <thead>\n",
       "    <tr style=\"text-align: right;\">\n",
       "      <th></th>\n",
       "      <th>Feature</th>\n",
       "      <th>Estimate</th>\n",
       "      <th>Relativity</th>\n",
       "    </tr>\n",
       "  </thead>\n",
       "  <tbody>\n",
       "    <tr>\n",
       "      <th>0</th>\n",
       "      <td>intercept</td>\n",
       "      <td>-2.83189183</td>\n",
       "      <td>0.05890132</td>\n",
       "    </tr>\n",
       "    <tr>\n",
       "      <th>1</th>\n",
       "      <td>ann_miles</td>\n",
       "      <td>1.45303077</td>\n",
       "      <td>4.27605463</td>\n",
       "    </tr>\n",
       "    <tr>\n",
       "      <th>2</th>\n",
       "      <td>cgroup_A</td>\n",
       "      <td>0.0</td>\n",
       "      <td>1.0</td>\n",
       "    </tr>\n",
       "    <tr>\n",
       "      <th>3</th>\n",
       "      <td>cgroup_B</td>\n",
       "      <td>0.29813267</td>\n",
       "      <td>1.34734053</td>\n",
       "    </tr>\n",
       "    <tr>\n",
       "      <th>4</th>\n",
       "      <td>cgroup_I</td>\n",
       "      <td>1.00945298</td>\n",
       "      <td>2.74409953</td>\n",
       "    </tr>\n",
       "    <tr>\n",
       "      <th>5</th>\n",
       "      <td>cgroup_M</td>\n",
       "      <td>0.50729838</td>\n",
       "      <td>1.66079828</td>\n",
       "    </tr>\n",
       "    <tr>\n",
       "      <th>6</th>\n",
       "      <td>cgroup_S</td>\n",
       "      <td>-0.0109676</td>\n",
       "      <td>0.98909232</td>\n",
       "    </tr>\n",
       "    <tr>\n",
       "      <th>7</th>\n",
       "      <td>tgroup_6</td>\n",
       "      <td>0.0</td>\n",
       "      <td>1.0</td>\n",
       "    </tr>\n",
       "    <tr>\n",
       "      <th>8</th>\n",
       "      <td>tgroup_1</td>\n",
       "      <td>-0.7552919</td>\n",
       "      <td>0.46987344</td>\n",
       "    </tr>\n",
       "    <tr>\n",
       "      <th>9</th>\n",
       "      <td>tgroup_2</td>\n",
       "      <td>-0.62720565</td>\n",
       "      <td>0.53408213</td>\n",
       "    </tr>\n",
       "    <tr>\n",
       "      <th>10</th>\n",
       "      <td>tgroup_3</td>\n",
       "      <td>-0.58067061</td>\n",
       "      <td>0.55952302</td>\n",
       "    </tr>\n",
       "    <tr>\n",
       "      <th>11</th>\n",
       "      <td>tgroup_4</td>\n",
       "      <td>-0.4089584</td>\n",
       "      <td>0.66434187</td>\n",
       "    </tr>\n",
       "    <tr>\n",
       "      <th>12</th>\n",
       "      <td>tgroup_5</td>\n",
       "      <td>-0.23809178</td>\n",
       "      <td>0.78813035</td>\n",
       "    </tr>\n",
       "  </tbody>\n",
       "</table>\n",
       "</div>"
      ],
      "text/plain": [
       "      Feature     Estimate  Relativity\n",
       "0   intercept  -2.83189183  0.05890132\n",
       "1   ann_miles   1.45303077  4.27605463\n",
       "2    cgroup_A          0.0         1.0\n",
       "3    cgroup_B   0.29813267  1.34734053\n",
       "4    cgroup_I   1.00945298  2.74409953\n",
       "5    cgroup_M   0.50729838  1.66079828\n",
       "6    cgroup_S   -0.0109676  0.98909232\n",
       "7    tgroup_6          0.0         1.0\n",
       "8    tgroup_1   -0.7552919  0.46987344\n",
       "9    tgroup_2  -0.62720565  0.53408213\n",
       "10   tgroup_3  -0.58067061  0.55952302\n",
       "11   tgroup_4   -0.4089584  0.66434187\n",
       "12   tgroup_5  -0.23809178  0.78813035"
      ]
     },
     "execution_count": 38,
     "metadata": {},
     "output_type": "execute_result"
    }
   ],
   "source": [
    "_bf"
   ]
  },
  {
   "cell_type": "code",
   "execution_count": 39,
   "id": "71e9f245",
   "metadata": {},
   "outputs": [],
   "source": [
    "def calcFrequency(data, coef, exposure):\n",
    "    \n",
    "    D = data.values\n",
    "    \n",
    "    if coef['Estimate'].dtype=='object':\n",
    "        b = coef['Estimate'].astype('float64').to_numpy()\n",
    "    \n",
    "    b0 = b[0]\n",
    "    b1 = b[1:]\n",
    "    \n",
    "    f = []\n",
    "    for i in range(D.shape[0]):\n",
    "        m = 1\n",
    "        for j in range(len(b1)): \n",
    "            m *= np.exp(D[i,j] * b1[j])\n",
    "            \n",
    "        f.append( m*np.exp(b0) )\n",
    "    \n",
    "    return np.array( exposure*f )"
   ]
  },
  {
   "cell_type": "markdown",
   "id": "152a4f3f",
   "metadata": {},
   "source": [
    "Claim Frequency"
   ]
  },
  {
   "cell_type": "code",
   "execution_count": 40,
   "id": "c3aa68ea",
   "metadata": {},
   "outputs": [
    {
     "data": {
      "text/plain": [
       "[0.027378, 0.036616, 0.044719, 0.055904, 0.461172]"
      ]
     },
     "execution_count": 40,
     "metadata": {},
     "output_type": "execute_result"
    }
   ],
   "source": [
    "_ee = np.exp( np.zeros( len(df.EarnExpo.values)) )\n",
    "\n",
    "calc_pred_f = calcFrequency(_xx, _bf, _ee)\n",
    "\n",
    "q = np.quantile( calc_pred_f, q=(0.0,0.25,0.50,0.75,1.0) )\n",
    "[round(x,6) for x in q]"
   ]
  },
  {
   "cell_type": "markdown",
   "id": "8faedd08",
   "metadata": {},
   "source": [
    "Claim Count"
   ]
  },
  {
   "cell_type": "code",
   "execution_count": 41,
   "id": "9241bced",
   "metadata": {},
   "outputs": [
    {
     "data": {
      "text/plain": [
       "[0.027378, 0.036616, 0.044719, 0.055904, 0.461172]"
      ]
     },
     "execution_count": 41,
     "metadata": {},
     "output_type": "execute_result"
    }
   ],
   "source": [
    "_e = np.exp( np.log(df.EarnExpo.values) )\n",
    "\n",
    "calc_count = calcFrequency(_xx,_bf,_ee)\n",
    "\n",
    "q = np.quantile( calc_count, q=(0.0,0.25,0.50,0.75,1.0) )\n",
    "[round(x,6) for x in q]"
   ]
  },
  {
   "cell_type": "markdown",
   "id": "466a8042",
   "metadata": {},
   "source": [
    "Plot Estimated Frequency "
   ]
  },
  {
   "cell_type": "code",
   "execution_count": 42,
   "id": "5b502659",
   "metadata": {},
   "outputs": [
    {
     "data": {
      "image/png": "[encoded data removed]",
      "text/plain": [
       "<Figure size 1296x432 with 1 Axes>"
      ]
     },
     "metadata": {
      "needs_background": "light"
     },
     "output_type": "display_data"
    }
   ],
   "source": [
    "fig = plt.figure( figsize=(18,6) )\n",
    "\n",
    "\n",
    "# Model Prediction\n",
    "fx = df.cgroup.to_numpy()\n",
    "fy = y_pred_f \n",
    "plt.scatter( fx, fy, s=200, color='black' )\n",
    "\n",
    "\n",
    "def changeLabels(x):\n",
    "    if x=='A':\n",
    "        x=0\n",
    "    elif x=='B':\n",
    "        x=4\n",
    "    elif x=='I':\n",
    "        x=2\n",
    "    elif x=='M':\n",
    "        x=3\n",
    "    else:\n",
    "        x=1 \n",
    "    return x\n",
    "\n",
    "# tmp = pd.DataFrame({'x':fx, 'y':fy})\n",
    "# tmp['labels'] = tmp.apply( lambda r : changeLabels(r.x), axis=1)\n",
    "# tmp = tmp.sort_values(by=['labels']).reset_index(drop=False)\n",
    "# plt.plot(tmp.labels, fy, color='tab:orange', linestyle='dotted', linewidth=6)\n",
    "plt.ylim(0,0.50)\n",
    "\n",
    "\n",
    "\n",
    "# Estimate from Coefficients\n",
    "fx = df.cgroup.to_numpy()\n",
    "fy = calc_pred_f \n",
    "plt.scatter( fx, fy, s=25, color='red' )\n",
    "\n",
    "# tmp['labels'] = tmp.apply( lambda r : changeLabels(r.x), axis=1)\n",
    "# tmp = tmp.sort_values(by=['labels']).reset_index(drop=False)\n",
    "# plt.plot(tmp.labels, fy, color='tab:blue', linestyle='dotted', linewidth=6)\n",
    "plt.ylim(0,0.50)\n",
    "\n",
    "\n",
    "# plt.xticks( np.sort(np.unique(fx)) )\n",
    "plt.xlabel('Cgroup Rating Class', fontdict={'size':16})\n",
    "plt.ylabel('Predicted Claim Frequency', fontdict={'size':16})\n",
    "\n",
    "\n",
    "plt.show()"
   ]
  },
  {
   "cell_type": "markdown",
   "id": "e6a88f0b",
   "metadata": {},
   "source": [
    "### Model 2 : Claim Severity"
   ]
  },
  {
   "cell_type": "markdown",
   "id": "6fdb03c4",
   "metadata": {},
   "source": [
    "Get X,y"
   ]
  },
  {
   "cell_type": "code",
   "execution_count": 43,
   "id": "677bbc18",
   "metadata": {},
   "outputs": [],
   "source": [
    "df1 = df[ df.TotLoss > 0 ]"
   ]
  },
  {
   "cell_type": "code",
   "execution_count": 44,
   "id": "558e8e7f",
   "metadata": {},
   "outputs": [],
   "source": [
    "pos_loss_ind = df1.index.to_list()"
   ]
  },
  {
   "cell_type": "code",
   "execution_count": 45,
   "id": "77311897",
   "metadata": {},
   "outputs": [],
   "source": [
    "_XN_ = XN.iloc[pos_loss_ind, :]\n",
    "_XC_ = XC.iloc[pos_loss_ind, :]"
   ]
  },
  {
   "cell_type": "code",
   "execution_count": 46,
   "id": "a7561d13",
   "metadata": {},
   "outputs": [],
   "source": [
    "XCPL = pd.get_dummies(_XC_, drop_first=True)    # XC Positive Loss"
   ]
  },
  {
   "cell_type": "code",
   "execution_count": 47,
   "id": "8395a59a",
   "metadata": {},
   "outputs": [],
   "source": [
    "X = pd.concat([_XN_,XCPL], axis=1)"
   ]
  },
  {
   "cell_type": "code",
   "execution_count": 48,
   "id": "ef9ba7b7",
   "metadata": {},
   "outputs": [],
   "source": [
    "y = df1.TotLoss.to_numpy()/df1.ClaimNum.to_numpy()"
   ]
  },
  {
   "cell_type": "code",
   "execution_count": 49,
   "id": "c42013db",
   "metadata": {},
   "outputs": [
    {
     "name": "stdout",
     "output_type": "stream",
     "text": [
      "y min  : 50.0\n",
      "y max  : 43000.0\n",
      "\n",
      "y mean : 2942.9714747474745\n",
      "y stdev: 4534.75573108117\n"
     ]
    }
   ],
   "source": [
    "print('y min  :', y.min())\n",
    "print('y max  :', y.max())\n",
    "print('')\n",
    "print('y mean :', np.mean(y) )\n",
    "print('y stdev:', np.std(y) )"
   ]
  },
  {
   "cell_type": "markdown",
   "id": "7a1eb57f",
   "metadata": {},
   "source": [
    "Plot y"
   ]
  },
  {
   "cell_type": "code",
   "execution_count": 50,
   "id": "fa0364c7",
   "metadata": {},
   "outputs": [],
   "source": [
    "# fig, ax = plt.subplots(1,1, figsize=(16,5))\n",
    "# ax.hist( y, bins=101  )\n",
    "# plt.show()"
   ]
  },
  {
   "cell_type": "markdown",
   "id": "9322f0d3",
   "metadata": {},
   "source": [
    "Get weights"
   ]
  },
  {
   "cell_type": "code",
   "execution_count": 51,
   "id": "6bdcabf5",
   "metadata": {},
   "outputs": [],
   "source": [
    "weights = df1.ClaimNum.to_numpy()"
   ]
  },
  {
   "cell_type": "markdown",
   "id": "eeb3b246",
   "metadata": {},
   "source": [
    "Build model"
   ]
  },
  {
   "cell_type": "code",
   "execution_count": 52,
   "id": "8dbaf1bc",
   "metadata": {},
   "outputs": [
    {
     "data": {
      "text/html": [
       "<style>#sk-container-id-2 {color: black;background-color: white;}#sk-container-id-2 pre{padding: 0;}#sk-container-id-2 div.sk-toggleable {background-color: white;}#sk-container-id-2 label.sk-toggleable__label {cursor: pointer;display: block;width: 100%;margin-bottom: 0;padding: 0.3em;box-sizing: border-box;text-align: center;}#sk-container-id-2 label.sk-toggleable__label-arrow:before {content: \"▸\";float: left;margin-right: 0.25em;color: #696969;}#sk-container-id-2 label.sk-toggleable__label-arrow:hover:before {color: black;}#sk-container-id-2 div.sk-estimator:hover label.sk-toggleable__label-arrow:before {color: black;}#sk-container-id-2 div.sk-toggleable__content {max-height: 0;max-width: 0;overflow: hidden;text-align: left;background-color: #f0f8ff;}#sk-container-id-2 div.sk-toggleable__content pre {margin: 0.2em;color: black;border-radius: 0.25em;background-color: #f0f8ff;}#sk-container-id-2 input.sk-toggleable__control:checked~div.sk-toggleable__content {max-height: 200px;max-width: 100%;overflow: auto;}#sk-container-id-2 input.sk-toggleable__control:checked~label.sk-toggleable__label-arrow:before {content: \"▾\";}#sk-container-id-2 div.sk-estimator input.sk-toggleable__control:checked~label.sk-toggleable__label {background-color: #d4ebff;}#sk-container-id-2 div.sk-label input.sk-toggleable__control:checked~label.sk-toggleable__label {background-color: #d4ebff;}#sk-container-id-2 input.sk-hidden--visually {border: 0;clip: rect(1px 1px 1px 1px);clip: rect(1px, 1px, 1px, 1px);height: 1px;margin: -1px;overflow: hidden;padding: 0;position: absolute;width: 1px;}#sk-container-id-2 div.sk-estimator {font-family: monospace;background-color: #f0f8ff;border: 1px dotted black;border-radius: 0.25em;box-sizing: border-box;margin-bottom: 0.5em;}#sk-container-id-2 div.sk-estimator:hover {background-color: #d4ebff;}#sk-container-id-2 div.sk-parallel-item::after {content: \"\";width: 100%;border-bottom: 1px solid gray;flex-grow: 1;}#sk-container-id-2 div.sk-label:hover label.sk-toggleable__label {background-color: #d4ebff;}#sk-container-id-2 div.sk-serial::before {content: \"\";position: absolute;border-left: 1px solid gray;box-sizing: border-box;top: 0;bottom: 0;left: 50%;z-index: 0;}#sk-container-id-2 div.sk-serial {display: flex;flex-direction: column;align-items: center;background-color: white;padding-right: 0.2em;padding-left: 0.2em;position: relative;}#sk-container-id-2 div.sk-item {position: relative;z-index: 1;}#sk-container-id-2 div.sk-parallel {display: flex;align-items: stretch;justify-content: center;background-color: white;position: relative;}#sk-container-id-2 div.sk-item::before, #sk-container-id-2 div.sk-parallel-item::before {content: \"\";position: absolute;border-left: 1px solid gray;box-sizing: border-box;top: 0;bottom: 0;left: 50%;z-index: -1;}#sk-container-id-2 div.sk-parallel-item {display: flex;flex-direction: column;z-index: 1;position: relative;background-color: white;}#sk-container-id-2 div.sk-parallel-item:first-child::after {align-self: flex-end;width: 50%;}#sk-container-id-2 div.sk-parallel-item:last-child::after {align-self: flex-start;width: 50%;}#sk-container-id-2 div.sk-parallel-item:only-child::after {width: 0;}#sk-container-id-2 div.sk-dashed-wrapped {border: 1px dashed gray;margin: 0 0.4em 0.5em 0.4em;box-sizing: border-box;padding-bottom: 0.4em;background-color: white;}#sk-container-id-2 div.sk-label label {font-family: monospace;font-weight: bold;display: inline-block;line-height: 1.2em;}#sk-container-id-2 div.sk-label-container {text-align: center;}#sk-container-id-2 div.sk-container {/* jupyter's `normalize.less` sets `[hidden] { display: none; }` but bootstrap.min.css set `[hidden] { display: none !important; }` so we also need the `!important` here to be able to override the default hidden behavior on the sphinx rendered scikit-learn.org. See: https://github.com/scikit-learn/scikit-learn/issues/21755 */display: inline-block !important;position: relative;}#sk-container-id-2 div.sk-text-repr-fallback {display: none;}</style><div id=\"sk-container-id-2\" class=\"sk-top-container\"><div class=\"sk-text-repr-fallback\"><pre>GammaRegressor(alpha=0.0)</pre><b>In a Jupyter environment, please rerun this cell to show the HTML representation or trust the notebook. <br />On GitHub, the HTML representation is unable to render, please try loading this page with nbviewer.org.</b></div><div class=\"sk-container\" hidden><div class=\"sk-item\"><div class=\"sk-estimator sk-toggleable\"><input class=\"sk-toggleable__control sk-hidden--visually\" id=\"sk-estimator-id-2\" type=\"checkbox\" checked><label for=\"sk-estimator-id-2\" class=\"sk-toggleable__label sk-toggleable__label-arrow\">GammaRegressor</label><div class=\"sk-toggleable__content\"><pre>GammaRegressor(alpha=0.0)</pre></div></div></div></div></div>"
      ],
      "text/plain": [
       "GammaRegressor(alpha=0.0)"
      ]
     },
     "execution_count": 52,
     "metadata": {},
     "output_type": "execute_result"
    }
   ],
   "source": [
    "from sklearn import linear_model\n",
    "\n",
    "model_severity = linear_model.GammaRegressor(alpha=0.0, fit_intercept=True)\n",
    "\n",
    "model_severity.fit(X, y, sample_weight=weights)"
   ]
  },
  {
   "cell_type": "code",
   "execution_count": 53,
   "id": "9d4d170f",
   "metadata": {
    "scrolled": true
   },
   "outputs": [
    {
     "data": {
      "text/plain": [
       "0.005623198319896661"
      ]
     },
     "execution_count": 53,
     "metadata": {},
     "output_type": "execute_result"
    }
   ],
   "source": [
    "model_severity.score(X, y)"
   ]
  },
  {
   "cell_type": "markdown",
   "id": "c1c0bb38",
   "metadata": {},
   "source": [
    "Average Loss Prediction"
   ]
  },
  {
   "cell_type": "code",
   "execution_count": 54,
   "id": "4d2f5420",
   "metadata": {},
   "outputs": [
    {
     "data": {
      "text/plain": [
       "array([2927.85761628, 2986.57601558, 3032.30214119, 2532.91408486,\n",
       "       2962.40395717])"
      ]
     },
     "execution_count": 54,
     "metadata": {},
     "output_type": "execute_result"
    }
   ],
   "source": [
    "y_pred_s = model_severity.predict(X)\n",
    "y_pred_s[0:5]"
   ]
  },
  {
   "cell_type": "markdown",
   "id": "52fcba13",
   "metadata": {},
   "source": [
    "Summary Statistics of Average Loss Prediction"
   ]
  },
  {
   "cell_type": "code",
   "execution_count": 55,
   "id": "4b3c0c3b",
   "metadata": {
    "scrolled": false
   },
   "outputs": [
    {
     "data": {
      "text/plain": [
       "array([2351.66243875, 2862.29603105, 2958.31568677, 3016.04541528,\n",
       "       3816.03143244])"
      ]
     },
     "execution_count": 55,
     "metadata": {},
     "output_type": "execute_result"
    }
   ],
   "source": [
    "np.quantile( y_pred_s, q=(0.0,0.25,0.50,0.75,1.0) )"
   ]
  },
  {
   "cell_type": "markdown",
   "id": "35d6cbad",
   "metadata": {},
   "source": [
    "Total Loss Prediction"
   ]
  },
  {
   "cell_type": "code",
   "execution_count": 56,
   "id": "1fc7e2f6",
   "metadata": {},
   "outputs": [
    {
     "data": {
      "text/plain": [
       "array([2927.85761628, 2986.57601558, 3032.30214119, 2532.91408486,\n",
       "       2962.40395717])"
      ]
     },
     "execution_count": 56,
     "metadata": {},
     "output_type": "execute_result"
    }
   ],
   "source": [
    "pred_loss = weights * y_pred_s\n",
    "pred_loss[0:5]"
   ]
  },
  {
   "cell_type": "code",
   "execution_count": 57,
   "id": "e23e70de",
   "metadata": {},
   "outputs": [
    {
     "data": {
      "text/plain": [
       "array([ 2351.66243875,  2866.76252363,  2962.69758729,  3021.95051698,\n",
       "       11006.72115754])"
      ]
     },
     "execution_count": 57,
     "metadata": {},
     "output_type": "execute_result"
    }
   ],
   "source": [
    "np.quantile( pred_loss, q=(0.0,0.25,0.50,0.75,1.0) )"
   ]
  },
  {
   "cell_type": "code",
   "execution_count": 58,
   "id": "62ac004a",
   "metadata": {},
   "outputs": [
    {
     "name": "stdout",
     "output_type": "stream",
     "text": [
      "actual claim amount    : 12747526.0\n",
      "predicted claim amount : 12748846.83\n"
     ]
    }
   ],
   "source": [
    "print( 'actual claim amount    :', df.TotLoss.sum() )\n",
    "print( 'predicted claim amount :', round(sum(pred_loss),2) )"
   ]
  },
  {
   "cell_type": "code",
   "execution_count": 59,
   "id": "2ddb2d07",
   "metadata": {},
   "outputs": [],
   "source": [
    "# print( model_severity.intercept_ )\n",
    "# print( model_severity.coef_[0:1] )\n",
    "# print( model_severity.coef_[1:] )"
   ]
  },
  {
   "cell_type": "code",
   "execution_count": 60,
   "id": "cb1f3906",
   "metadata": {},
   "outputs": [],
   "source": [
    "# print(model_severity.feature_names_in_)"
   ]
  },
  {
   "cell_type": "markdown",
   "id": "98ed20f9",
   "metadata": {},
   "source": [
    "Plot Model Coefficients"
   ]
  },
  {
   "cell_type": "code",
   "execution_count": 61,
   "id": "f35d0066",
   "metadata": {},
   "outputs": [
    {
     "data": {
      "image/png": "[encoded data removed]",
      "text/plain": [
       "<Figure size 1296x288 with 1 Axes>"
      ]
     },
     "metadata": {
      "needs_background": "light"
     },
     "output_type": "display_data"
    }
   ],
   "source": [
    "fig = plt.figure( figsize=(18,4) )\n",
    "\n",
    "_coef = [0.0] + list(model_severity.coef_[1:5])  \n",
    "\n",
    "\n",
    "dx = np.sort(df.cgroup.unique())\n",
    "dy =  np.zeros( len(dx) )\n",
    "plt.plot(dx, dy, color='black', linestyle='dotted')\n",
    "\n",
    "plt.scatter( np.sort(df.cgroup.unique()), _coef, color='black')\n",
    "plt.scatter( np.sort(df.cgroup.unique())[0], _coef[0], s=100, color='red')\n",
    "plt.plot(dx, _coef)\n",
    "\n",
    "\n",
    "plt.xticks(dx)\n",
    "plt.xlabel('Cgroup Rating Class', fontdict={'size':16})\n",
    "plt.ylabel('Frequency Model Coefficients', fontdict={'size':16})\n",
    "\n",
    "\n",
    "plt.show()"
   ]
  },
  {
   "cell_type": "code",
   "execution_count": 62,
   "id": "99b0d5a4",
   "metadata": {},
   "outputs": [
    {
     "data": {
      "image/png": "[encoded data removed]",
      "text/plain": [
       "<Figure size 1296x288 with 1 Axes>"
      ]
     },
     "metadata": {
      "needs_background": "light"
     },
     "output_type": "display_data"
    }
   ],
   "source": [
    "fig = plt.figure( figsize=(18,4) )\n",
    "\n",
    "_coef = list(model_severity.coef_[5:10]) + [0.0]\n",
    "\n",
    "\n",
    "dx = np.sort(df.tgroup.unique())\n",
    "dy =  np.zeros( len(dx) )\n",
    "plt.plot(dx, dy, color='black', linestyle='dotted')\n",
    "\n",
    "plt.scatter( np.sort(df.tgroup.unique()), _coef, color='black')\n",
    "plt.scatter( np.sort(df.tgroup.unique())[5], _coef[5], s=100, color='red')\n",
    "plt.plot(dx, _coef)\n",
    "\n",
    "\n",
    "plt.xticks(dx)\n",
    "plt.xlabel('Territory Group', fontdict={'size':16})\n",
    "plt.ylabel('Frequency Model Coefficients', fontdict={'size':16})\n",
    "\n",
    "\n",
    "plt.show()"
   ]
  },
  {
   "cell_type": "markdown",
   "id": "161efea6",
   "metadata": {},
   "source": [
    "Estimate Claim Severity"
   ]
  },
  {
   "cell_type": "code",
   "execution_count": 63,
   "id": "f34b3e3f",
   "metadata": {},
   "outputs": [],
   "source": [
    "key = np.array(\n",
    "    ['intercept', \n",
    "     'ann_miles',\n",
    "     'cgroup_A','cgroup_B','cgroup_I','cgroup_M','cgroup_S',\n",
    "     'tgroup_6','tgroup_1','tgroup_2','tgroup_3','tgroup_4','tgroup_5']\n",
    ")\n",
    "\n",
    "val = [model_severity.intercept_] + list(model_severity.coef_[0:1]) + [0.0] + list(model_severity.coef_)[1:5] \n",
    "val = val + [0.0] + list(model_severity.coef_)[5:] \n",
    "val = np.array([round(x,8) for x in val])\n",
    "\n",
    "rel = np.array([ round(np.exp(x),8) for x in val]) "
   ]
  },
  {
   "cell_type": "code",
   "execution_count": 64,
   "id": "10fd42de",
   "metadata": {},
   "outputs": [],
   "source": [
    "_xn = _XN_\n",
    "_xc = pd.get_dummies( _XC_, drop_first=False )\n",
    "_xx = pd.concat([_xn, _xc], axis=1)\n",
    "\n",
    "_bs = pd.DataFrame( np.column_stack((key,val,rel)), columns=['Feature','Estimate','Relativity'])"
   ]
  },
  {
   "cell_type": "code",
   "execution_count": 65,
   "id": "3f17d2e1",
   "metadata": {},
   "outputs": [
    {
     "data": {
      "text/html": [
       "<div>\n",
       "<style scoped>\n",
       "    .dataframe tbody tr th:only-of-type {\n",
       "        vertical-align: middle;\n",
       "    }\n",
       "\n",
       "    .dataframe tbody tr th {\n",
       "        vertical-align: top;\n",
       "    }\n",
       "\n",
       "    .dataframe thead th {\n",
       "        text-align: right;\n",
       "    }\n",
       "</style>\n",
       "<table border=\"1\" class=\"dataframe\">\n",
       "  <thead>\n",
       "    <tr style=\"text-align: right;\">\n",
       "      <th></th>\n",
       "      <th>Feature</th>\n",
       "      <th>Estimate</th>\n",
       "      <th>Relativity</th>\n",
       "    </tr>\n",
       "  </thead>\n",
       "  <tbody>\n",
       "    <tr>\n",
       "      <th>0</th>\n",
       "      <td>intercept</td>\n",
       "      <td>7.99923723</td>\n",
       "      <td>2978.68506869</td>\n",
       "    </tr>\n",
       "    <tr>\n",
       "      <th>1</th>\n",
       "      <td>ann_miles</td>\n",
       "      <td>-0.10497005</td>\n",
       "      <td>0.90035149</td>\n",
       "    </tr>\n",
       "    <tr>\n",
       "      <th>2</th>\n",
       "      <td>cgroup_A</td>\n",
       "      <td>0.0</td>\n",
       "      <td>1.0</td>\n",
       "    </tr>\n",
       "    <tr>\n",
       "      <th>3</th>\n",
       "      <td>cgroup_B</td>\n",
       "      <td>0.02248188</td>\n",
       "      <td>1.0227365</td>\n",
       "    </tr>\n",
       "    <tr>\n",
       "      <th>4</th>\n",
       "      <td>cgroup_I</td>\n",
       "      <td>0.22134636</td>\n",
       "      <td>1.24775553</td>\n",
       "    </tr>\n",
       "    <tr>\n",
       "      <th>5</th>\n",
       "      <td>cgroup_M</td>\n",
       "      <td>-0.01371668</td>\n",
       "      <td>0.98637696</td>\n",
       "    </tr>\n",
       "    <tr>\n",
       "      <th>6</th>\n",
       "      <td>cgroup_S</td>\n",
       "      <td>0.03035065</td>\n",
       "      <td>1.03081593</td>\n",
       "    </tr>\n",
       "    <tr>\n",
       "      <th>7</th>\n",
       "      <td>tgroup_6</td>\n",
       "      <td>0.0</td>\n",
       "      <td>1.0</td>\n",
       "    </tr>\n",
       "    <tr>\n",
       "      <th>8</th>\n",
       "      <td>tgroup_1</td>\n",
       "      <td>0.02840085</td>\n",
       "      <td>1.028808</td>\n",
       "    </tr>\n",
       "    <tr>\n",
       "      <th>9</th>\n",
       "      <td>tgroup_2</td>\n",
       "      <td>-0.13619976</td>\n",
       "      <td>0.87266829</td>\n",
       "    </tr>\n",
       "    <tr>\n",
       "      <th>10</th>\n",
       "      <td>tgroup_3</td>\n",
       "      <td>0.00600523</td>\n",
       "      <td>1.0060233</td>\n",
       "    </tr>\n",
       "    <tr>\n",
       "      <th>11</th>\n",
       "      <td>tgroup_4</td>\n",
       "      <td>-0.0280276</td>\n",
       "      <td>0.97236153</td>\n",
       "    </tr>\n",
       "    <tr>\n",
       "      <th>12</th>\n",
       "      <td>tgroup_5</td>\n",
       "      <td>0.01956221</td>\n",
       "      <td>1.0197548</td>\n",
       "    </tr>\n",
       "  </tbody>\n",
       "</table>\n",
       "</div>"
      ],
      "text/plain": [
       "      Feature     Estimate     Relativity\n",
       "0   intercept   7.99923723  2978.68506869\n",
       "1   ann_miles  -0.10497005     0.90035149\n",
       "2    cgroup_A          0.0            1.0\n",
       "3    cgroup_B   0.02248188      1.0227365\n",
       "4    cgroup_I   0.22134636     1.24775553\n",
       "5    cgroup_M  -0.01371668     0.98637696\n",
       "6    cgroup_S   0.03035065     1.03081593\n",
       "7    tgroup_6          0.0            1.0\n",
       "8    tgroup_1   0.02840085       1.028808\n",
       "9    tgroup_2  -0.13619976     0.87266829\n",
       "10   tgroup_3   0.00600523      1.0060233\n",
       "11   tgroup_4   -0.0280276     0.97236153\n",
       "12   tgroup_5   0.01956221      1.0197548"
      ]
     },
     "execution_count": 65,
     "metadata": {},
     "output_type": "execute_result"
    }
   ],
   "source": [
    "_bs"
   ]
  },
  {
   "cell_type": "code",
   "execution_count": 66,
   "id": "a0e27fee",
   "metadata": {},
   "outputs": [],
   "source": [
    "def calcSeverity(data, coef, claimnumber):\n",
    "    \n",
    "    D = data.values\n",
    "    \n",
    "    if coef['Estimate'].dtype=='object':\n",
    "        b = coef['Estimate'].astype('float64').to_numpy()\n",
    "    \n",
    "    b0 = b[0]\n",
    "    b1 = b[1:]\n",
    "    \n",
    "    s = []\n",
    "    for i in range(D.shape[0]):\n",
    "        \n",
    "        m = 1\n",
    "        for j in range(len(b1)): \n",
    "            m *= np.exp(D[i,j] * b1[j])\n",
    "            \n",
    "        s.append( m*np.exp(b0) )\n",
    "        \n",
    "    return np.array(  claimnumber*s )"
   ]
  },
  {
   "cell_type": "markdown",
   "id": "ddca1dce",
   "metadata": {},
   "source": [
    "Average Severity"
   ]
  },
  {
   "cell_type": "code",
   "execution_count": 67,
   "id": "539698c6",
   "metadata": {},
   "outputs": [
    {
     "data": {
      "text/plain": [
       "[2351.662443, 2862.296037, 2958.315692, 3016.045427, 3816.031443]"
      ]
     },
     "execution_count": 67,
     "metadata": {},
     "output_type": "execute_result"
    }
   ],
   "source": [
    "_cn = np.exp( np.zeros(len(df1.ClaimNum.values)) )\n",
    "\n",
    "calc_pred_s = calcSeverity(_xx,_bs,_cn)\n",
    "\n",
    "q = np.quantile( calc_pred_s, q=(0.0,0.25,0.50,0.75,1.0) )\n",
    "[round(x,6) for x in q]"
   ]
  },
  {
   "cell_type": "markdown",
   "id": "fb7b2fe1",
   "metadata": {},
   "source": [
    "Total Loss"
   ]
  },
  {
   "cell_type": "code",
   "execution_count": 68,
   "id": "954a8319",
   "metadata": {},
   "outputs": [
    {
     "data": {
      "text/plain": [
       "[2351.662443, 2866.76252, 2962.697606, 3021.950529, 11006.721248]"
      ]
     },
     "execution_count": 68,
     "metadata": {},
     "output_type": "execute_result"
    }
   ],
   "source": [
    "_cn = np.exp( np.log(df1.ClaimNum.values) )\n",
    "\n",
    "calc_loss = calcSeverity(_xx,_bs,_cn)\n",
    "\n",
    "q = np.quantile( calc_loss, q=(0.0,0.25,0.50,0.75,1.0) )\n",
    "[round(x,6) for x in q]"
   ]
  },
  {
   "cell_type": "markdown",
   "id": "c050904c",
   "metadata": {},
   "source": [
    "Plot Estimated Severity"
   ]
  },
  {
   "cell_type": "code",
   "execution_count": 69,
   "id": "43839abb",
   "metadata": {},
   "outputs": [
    {
     "data": {
      "image/png": "[encoded data removed]",
      "text/plain": [
       "<Figure size 1296x432 with 1 Axes>"
      ]
     },
     "metadata": {
      "needs_background": "light"
     },
     "output_type": "display_data"
    }
   ],
   "source": [
    "fig = plt.figure( figsize=(18,6) )\n",
    "\n",
    "\n",
    "# Model Prediction\n",
    "fx = df1.cgroup.to_numpy()\n",
    "fy = y_pred_s\n",
    "plt.scatter( fx, fy, s=200, color='black' )\n",
    "\n",
    "\n",
    "# def changeLabels(x):\n",
    "#     if x=='A':\n",
    "#         x=0\n",
    "#     elif x=='B':\n",
    "#         x=4\n",
    "#     elif x=='I':\n",
    "#         x=3\n",
    "#     elif x=='M':\n",
    "#         x=1\n",
    "#     else:\n",
    "#         x=2 \n",
    "#     return x\n",
    "\n",
    "# tmp = pd.DataFrame({'x':fx, 'y':fy})\n",
    "# tmp['labels'] = tmp.apply( lambda r : changeLabels(r.x), axis=1)\n",
    "# tmp = tmp.sort_values(by=['labels']).reset_index(drop=False)\n",
    "# plt.plot(tmp.labels, fy, color='tab:orange', linestyle='dotted', linewidth=6)\n",
    "plt.ylim(2000,4500)\n",
    "\n",
    "\n",
    "# Estimate from Model Coefficients\n",
    "fx = df1.cgroup.to_numpy()\n",
    "fy = calc_pred_s\n",
    "plt.scatter( fx, fy, s=25, color='red' )\n",
    "\n",
    "# tmp = pd.DataFrame({'x':fx, 'y':fy})\n",
    "# tmp['labels'] = tmp.apply( lambda r : changeLabels(r.x), axis=1)\n",
    "# tmp = tmp.sort_values(by=['labels']).reset_index(drop=False)\n",
    "# plt.plot(tmp.labels, fy, color='tab:blue', linestyle='dotted', linewidth=6)\n",
    "plt.ylim(2000,4500)\n",
    "\n",
    "\n",
    "# plt.xticks( np.sort(np.unique(fx)) )\n",
    "plt.xlabel('Cgroup Rating Class', fontdict={'size':16})\n",
    "plt.ylabel('Predicted Claim Severity', fontdict={'size':16})\n",
    "\n",
    "\n",
    "plt.show()"
   ]
  },
  {
   "cell_type": "markdown",
   "id": "c11c08e3",
   "metadata": {},
   "source": [
    "-------------------------------------------------------------------------------------------------"
   ]
  },
  {
   "cell_type": "markdown",
   "id": "9aa38027",
   "metadata": {},
   "source": [
    "#### Pure Premium on Positive Loss Dataset"
   ]
  },
  {
   "cell_type": "code",
   "execution_count": 70,
   "id": "97e533fc",
   "metadata": {},
   "outputs": [
    {
     "data": {
      "text/plain": [
       "[82.4332, 112.6276, 149.0081, 193.5008, 966.44]"
      ]
     },
     "execution_count": 70,
     "metadata": {},
     "output_type": "execute_result"
    }
   ],
   "source": [
    "# Model Prediction  1\n",
    "pure_premium_exp = y_pred_f[pos_loss_ind] * y_pred_s\n",
    "q = np.quantile( pure_premium_exp, q=(0.0,0.25,0.50,0.75,1.0) )\n",
    "[round(x,4) for x in q]"
   ]
  },
  {
   "cell_type": "code",
   "execution_count": 71,
   "id": "85640c60",
   "metadata": {},
   "outputs": [
    {
     "data": {
      "text/plain": [
       "[82.4332, 112.6276, 149.0081, 193.5008, 966.44]"
      ]
     },
     "execution_count": 71,
     "metadata": {},
     "output_type": "execute_result"
    }
   ],
   "source": [
    "# Model Prediction 2\n",
    "pure_premium_exp = calc_pred_f[pos_loss_ind] * calc_pred_s\n",
    "q = np.quantile( pure_premium_exp, q=(0.0,0.25,0.50,0.75,1.0) )\n",
    "[round(x,4) for x in q]"
   ]
  },
  {
   "cell_type": "code",
   "execution_count": 72,
   "id": "9efacaf2",
   "metadata": {},
   "outputs": [
    {
     "name": "stdout",
     "output_type": "stream",
     "text": [
      "total loss actual    : 12747526.0\n",
      "pure premium actual  : 15220807.2903\n"
     ]
    },
    {
     "data": {
      "text/plain": [
       "[50.0, 708.0, 1514.0, 3475.0, 153792.0006]"
      ]
     },
     "execution_count": 72,
     "metadata": {},
     "output_type": "execute_result"
    }
   ],
   "source": [
    "# Observed Data\n",
    "tot_loss_act  = df1.TotLoss.sum()\n",
    "print('total loss actual    :', round(tot_loss_act,4))\n",
    "\n",
    "pure_premium_act = df1.TotLoss/df1.EarnExpo\n",
    "print('pure premium actual  :', round(sum(pure_premium_act),4))\n",
    "\n",
    "q = np.quantile( pure_premium_act, q=(0.0,0.25,0.50,0.75,1.0) )\n",
    "[round(x,4) for x in q]"
   ]
  },
  {
   "cell_type": "markdown",
   "id": "e09d2850",
   "metadata": {},
   "source": [
    "#### Pure Premium for the Entire Dataset"
   ]
  },
  {
   "cell_type": "markdown",
   "id": "136d8640",
   "metadata": {},
   "source": [
    "Actual Loss"
   ]
  },
  {
   "cell_type": "code",
   "execution_count": 73,
   "id": "9751a1e4",
   "metadata": {},
   "outputs": [
    {
     "name": "stdout",
     "output_type": "stream",
     "text": [
      "Actual Loss : 12747526.0\n"
     ]
    }
   ],
   "source": [
    "loss_actual = df.TotLoss.sum()\n",
    "print('Actual Loss :', round(loss_actual,4) )"
   ]
  },
  {
   "cell_type": "markdown",
   "id": "7d4d16e1",
   "metadata": {},
   "source": [
    "Expected Loss = Loss Cost = Pure Premium"
   ]
  },
  {
   "cell_type": "code",
   "execution_count": 74,
   "id": "50dc9584",
   "metadata": {},
   "outputs": [
    {
     "name": "stdout",
     "output_type": "stream",
     "text": [
      "Predicted Severity by Row : [2990.4808, 2881.7984, 2887.2484, 2950.9299, 2871.2041]\n",
      "Predicted Total Severity  : 291644758.2762222\n"
     ]
    }
   ],
   "source": [
    "_XC_ = pd.get_dummies(XC, drop_first=True)\n",
    "X = pd.concat([XN,_XC_], axis=1)\n",
    "\n",
    "y_pred_s = model_severity.predict(X)\n",
    "\n",
    "print('Predicted Severity by Row :', [round(x,4) for x in y_pred_s[0:5]])\n",
    "print('Predicted Total Severity  :', np.sum(y_pred_s))"
   ]
  },
  {
   "cell_type": "code",
   "execution_count": 75,
   "id": "fb2f186f",
   "metadata": {},
   "outputs": [
    {
     "name": "stdout",
     "output_type": "stream",
     "text": [
      "Expected Loss : 12748846.8289\n"
     ]
    }
   ],
   "source": [
    "\"\"\"Expected Total Loss using Severity\"\"\"\n",
    "loss_expected_s =  y_pred_s * df.ClaimNum\n",
    "print('Expected Loss :', round(loss_expected_s.sum(),4) ) "
   ]
  },
  {
   "cell_type": "code",
   "execution_count": 76,
   "id": "0a3f3e53",
   "metadata": {},
   "outputs": [
    {
     "name": "stdout",
     "output_type": "stream",
     "text": [
      "Pure Premium : [172.3082, 120.9144, 118.0158, 120.3045, 126.7709] \n",
      "\n",
      "Pure Premium Quartile : [81.7724, 102.7763, 128.333, 165.7535, 1588.9953]\n"
     ]
    }
   ],
   "source": [
    "pure_premium = y_pred_f * y_pred_s\n",
    "\n",
    "print('Pure Premium :', [round(x,4) for x in pure_premium[0:5]], '\\n')\n",
    "\n",
    "q = np.quantile( pure_premium, q=(0.0,0.25,0.50,0.75,1.0) )\n",
    "print('Pure Premium Quartile :', [round(x,4) for x in q] )"
   ]
  },
  {
   "cell_type": "code",
   "execution_count": 77,
   "id": "8058b840",
   "metadata": {},
   "outputs": [
    {
     "name": "stdout",
     "output_type": "stream",
     "text": [
      "Expected Loss : 12745454.413\n"
     ]
    }
   ],
   "source": [
    "y_pred_l = pure_premium * df.EarnExpo.values\n",
    "loss_expected = np.sum( y_pred_l )\n",
    "print('Expected Loss :', round(loss_expected,4) )"
   ]
  },
  {
   "cell_type": "markdown",
   "id": "e6fa3424",
   "metadata": {},
   "source": [
    "### Model Validation Training  Data "
   ]
  },
  {
   "cell_type": "markdown",
   "id": "b0a749f9",
   "metadata": {},
   "source": [
    "Example : A/E for Entire Dataset"
   ]
  },
  {
   "cell_type": "code",
   "execution_count": 78,
   "id": "0c12db3d",
   "metadata": {},
   "outputs": [
    {
     "data": {
      "text/plain": [
       "1.0001625353605115"
      ]
     },
     "execution_count": 78,
     "metadata": {},
     "output_type": "execute_result"
    }
   ],
   "source": [
    "A_by_E = loss_actual/loss_expected\n",
    "A_by_E"
   ]
  },
  {
   "cell_type": "markdown",
   "id": "f089fcf7",
   "metadata": {},
   "source": [
    "Example: Loss A/E (Data is Grouped by Driver Age)"
   ]
  },
  {
   "cell_type": "code",
   "execution_count": 79,
   "id": "b6b399c4",
   "metadata": {},
   "outputs": [],
   "source": [
    "tmp = df.copy()\n",
    "tmp['PredFrequency'] = y_pred_f\n",
    "tmp['PredSeverity']  = y_pred_s\n",
    "tmp['ExpectedLoss']  = y_pred_l"
   ]
  },
  {
   "cell_type": "code",
   "execution_count": 80,
   "id": "1e71a968",
   "metadata": {},
   "outputs": [],
   "source": [
    "grp1 = tmp.groupby(by=['cgroup'], as_index=True)\n",
    "res1 = grp1.apply(lambda x : \n",
    "                {'A': sum(x.TotLoss), \n",
    "                 'E': sum(x.ExpectedLoss),\n",
    "                 'AE':round(sum(x.TotLoss)/sum(x.ExpectedLoss),2)\n",
    "                })\n",
    "\n",
    "grp2 = tmp.groupby(by=['tgroup'], as_index=True)\n",
    "res2 = grp2.apply(lambda x : \n",
    "                {'A': sum(x.TotLoss), \n",
    "                 'E': sum(x.ExpectedLoss),\n",
    "                 'AE':round(sum(x.TotLoss)/sum(x.ExpectedLoss),2)\n",
    "                })\n",
    "\n",
    "# grp3 = tmp.groupby(by=['rateclass'], as_index=True)\n",
    "# res3 = grp3.apply(lambda x : \n",
    "#                 {'A': sum(x.TotLoss), \n",
    "#                  'E': sum(x.ExpectedLoss),\n",
    "#                  'AE':round(sum(x.TotLoss)/sum(x.ExpectedLoss),2)\n",
    "#                 })\n",
    "\n",
    "\n",
    "y_driver_age =[res1.values[x]['AE'] for x in range(res1.shape[0])]\n",
    "x_driver_age =list(res1.index)\n",
    "\n",
    "y_vehicle_age =[res2.values[x]['AE'] for x in range(res2.shape[0])]\n",
    "x_vehicle_age =list(res2.index)\n",
    "\n",
    "# y_license_year =[res3.values[x]['AE'] for x in range(res3.shape[0])]\n",
    "# x_license_year =list(res3.index)"
   ]
  },
  {
   "cell_type": "code",
   "execution_count": 81,
   "id": "aae9fe5c",
   "metadata": {},
   "outputs": [
    {
     "data": {
      "image/png": "[encoded data removed]",
      "text/plain": [
       "<Figure size 1296x432 with 3 Axes>"
      ]
     },
     "metadata": {
      "needs_background": "light"
     },
     "output_type": "display_data"
    }
   ],
   "source": [
    "fig, ax = plt.subplots(1, 3, figsize=(18,6))\n",
    "\n",
    "x = x_driver_age\n",
    "y = np.ones( len(x) )\n",
    "ax[0].plot(x,y, color='black',linestyle='dotted', linewidth=1)\n",
    "ax[0].scatter(x_driver_age, y_driver_age, s=20, color='black')\n",
    "ax[0].plot(x_driver_age, y_driver_age, linestyle='solid')\n",
    "ax[0].set_ylim(-0.,2)\n",
    "ax[0].set_ylabel('Severity  A/E', fontdict={'size':16})\n",
    "ax[0].set_xlabel('Cgroup', fontdict={'size':14})\n",
    "\n",
    "x = x_vehicle_age\n",
    "y = np.ones( len(x) )\n",
    "ax[1].plot(x,y, color='black',linestyle='dotted', linewidth=1)\n",
    "ax[1].scatter(x_vehicle_age, y_vehicle_age, s=20, color='black')\n",
    "ax[1].plot(x_vehicle_age, y_vehicle_age, linestyle='solid')\n",
    "ax[1].set_ylim(-0.1,2)\n",
    "ax[1].set_xlabel('Tgroup', fontdict={'size':14})\n",
    "\n",
    "# x = x_license_year\n",
    "# y = np.ones( len(x) )\n",
    "# ax[2].plot(x,y, color='black',linestyle='dotted', linewidth=1)\n",
    "# ax[2].scatter(x_license_year, y_license_year, s=20, color='black')\n",
    "# ax[2].plot(x_license_year, y_license_year, linestyle='solid')\n",
    "# ax[2].set_ylim(-0.1,2)\n",
    "# ax[2].set_xlabel('Rateclass', fontdict={'size':14})\n",
    "\n",
    "plt.show()"
   ]
  },
  {
   "cell_type": "markdown",
   "id": "b15d2cf9",
   "metadata": {},
   "source": [
    "Example : Frequency A/E (Data is Grouped by Variables)"
   ]
  },
  {
   "cell_type": "code",
   "execution_count": 82,
   "id": "bc4587da",
   "metadata": {},
   "outputs": [],
   "source": [
    "def frequency_A_by_E(data, feature):\n",
    "    \n",
    "    grp = data.groupby(by=[feature], as_index=True)\n",
    "    \n",
    "    res = grp.apply(lambda x : \n",
    "                {'A': x.ClaimNum.sum()/x.EarnExpo.sum(),         \n",
    "                 'E': (x.PredFrequency*x.EarnExpo).sum()/x.EarnExpo.sum(),   \n",
    "                 'AE':round(x.ClaimNum.sum()/(x.PredFrequency*x.EarnExpo).sum(),2)\n",
    "                })\n",
    "    return res\n",
    "\n",
    "\n",
    "res1 = frequency_A_by_E(tmp, 'cgroup')\n",
    "res2 = frequency_A_by_E(tmp, 'tgroup')\n",
    "#res3 = frequency_A_by_E(tmp, 'rateclass')\n",
    "    \n",
    "y_cgroup =[res1.values[x]['AE'] for x in range(res1.shape[0])]\n",
    "x_cgroup =list(res1.index)\n",
    "\n",
    "y_tgroup =[res2.values[x]['AE'] for x in range(res2.shape[0])]\n",
    "x_tgroup =list(res2.index)\n",
    "\n",
    "# y_rateclass =[res3.values[x]['AE'] for x in range(res3.shape[0])]\n",
    "# x_rateclass =list(res3.index)"
   ]
  },
  {
   "cell_type": "code",
   "execution_count": 83,
   "id": "29d1ba3e",
   "metadata": {},
   "outputs": [
    {
     "data": {
      "image/png": "[encoded data removed]",
      "text/plain": [
       "<Figure size 1296x432 with 3 Axes>"
      ]
     },
     "metadata": {
      "needs_background": "light"
     },
     "output_type": "display_data"
    }
   ],
   "source": [
    "fig, ax = plt.subplots(1, 3, figsize=(18,6))\n",
    "\n",
    "x = x_cgroup\n",
    "y = np.ones( len(x) )\n",
    "ax[0].plot(x,y, color='black',linestyle='dotted', linewidth=1)\n",
    "ax[0].scatter(x_cgroup, y_cgroup, s=20, color='black')\n",
    "ax[0].plot(x_cgroup, y_cgroup, linestyle='solid')\n",
    "ax[0].set_ylim(-0.,2)\n",
    "ax[0].set_ylabel('Frequency  A/E', fontdict={'size':16})\n",
    "ax[0].set_xlabel('Cgroup', fontdict={'size':14})\n",
    "\n",
    "x = x_tgroup\n",
    "y = np.ones( len(x) )\n",
    "ax[1].plot(x,y, color='black',linestyle='dotted', linewidth=1)\n",
    "ax[1].scatter(x_tgroup, y_tgroup, s=20, color='black')\n",
    "ax[1].plot(x_tgroup, y_tgroup, linestyle='solid')\n",
    "ax[1].set_ylim(-0.1,2)\n",
    "ax[1].set_xlabel('Tgroup', fontdict={'size':14})\n",
    "\n",
    "# x = x_rateclass\n",
    "# y = np.ones( len(x) )\n",
    "# ax[2].plot(x,y, color='black',linestyle='dotted', linewidth=1)\n",
    "# ax[2].scatter(x_rateclass, y_rateclass, s=20, color='black')\n",
    "# ax[2].plot(x_rateclass, y_rateclass, linestyle='solid')\n",
    "# ax[2].set_ylim(-0.1,2)\n",
    "# ax[2].set_xlabel('Rateclass', fontdict={'size':14})\n",
    "\n",
    "plt.show()"
   ]
  },
  {
   "cell_type": "markdown",
   "id": "b3177d14",
   "metadata": {},
   "source": [
    "Example : Pure Premium vs Average Claim Amount"
   ]
  },
  {
   "cell_type": "code",
   "execution_count": 84,
   "id": "dd781815",
   "metadata": {},
   "outputs": [],
   "source": [
    "obs_loss = df['TotLoss'].values\n",
    "exposure = df['EarnExpo'].values\n",
    "pure_prm = y_pred_f * y_pred_s\n",
    "exp_loss = y_pred_l\n",
    "\n",
    "tmp =  pd.DataFrame( \n",
    "    np.column_stack((obs_loss, exposure, pure_prm, exp_loss)), \n",
    "    columns=['Actual','Exposure','PurePremium','Expected'])"
   ]
  },
  {
   "cell_type": "code",
   "execution_count": 85,
   "id": "fea23148",
   "metadata": {},
   "outputs": [],
   "source": [
    "## General Equal-Width Bins\n",
    "tmp1 = tmp.sort_values(by=['PurePremium'], inplace=False).reset_index(drop=True)\n",
    "\n",
    "nbins = 10\n",
    "ppBins = pd.cut( \n",
    "    tmp1.PurePremium.to_numpy(), \n",
    "    nbins,\n",
    "    right=True, include_lowest=True, \n",
    "    ordered=True)\n",
    "\n",
    "tmp1['ppGroups'] = ppBins\n",
    "\n",
    "grp1 = tmp1.groupby(by=['ppGroups'], as_index=False).agg(\n",
    "    {'Actual':'mean', \n",
    "     'Exposure':'sum', \n",
    "     'PurePremium':'mean', \n",
    "     'Expected': 'mean', \n",
    "     'ppGroups': 'count'\n",
    "    })\n",
    "\n",
    "\n",
    "\n",
    "## Quantile Equal-Frequency  Bins\n",
    "tmp2 = tmp.sort_values(by=['PurePremium'], inplace=False).reset_index(drop=True)\n",
    "\n",
    "nbins = 10\n",
    "ppBins = pd.qcut( \n",
    "    tmp2.PurePremium.to_numpy(), \n",
    "    nbins,\n",
    "    duplicates = 'drop')\n",
    "\n",
    "tmp2['ppGroups'] = ppBins\n",
    "\n",
    "grp2 = tmp2.groupby(by=['ppGroups'], as_index=False).agg(\n",
    "    {'Actual':'mean', \n",
    "     'Exposure':'sum', \n",
    "     'PurePremium':'mean', \n",
    "     'Expected': 'mean',\n",
    "     'ppGroups': 'count'\n",
    "    })"
   ]
  },
  {
   "cell_type": "code",
   "execution_count": 86,
   "id": "1ce6e238",
   "metadata": {
    "scrolled": false
   },
   "outputs": [
    {
     "data": {
      "image/png": "[encoded data removed]",
      "text/plain": [
       "<Figure size 1296x432 with 2 Axes>"
      ]
     },
     "metadata": {
      "needs_background": "light"
     },
     "output_type": "display_data"
    }
   ],
   "source": [
    "fig, ax = plt.subplots(1,2, figsize=(18,6))\n",
    "\n",
    "x1 = 1\n",
    "x2 = grp1.shape[0]+1\n",
    "ax[0].scatter( np.arange(x1,x2), grp1.Actual.to_list(), color='tab:blue', s=75)\n",
    "ax[0].plot( np.arange(x1,x2), grp1.Actual.to_numpy(), color='tab:blue', linewidth=3)\n",
    "ax[0].scatter( np.arange(x1,x2),  grp1.Expected.to_numpy(), color='tab:orange', s=75)\n",
    "ax[0].plot( np.arange(x1,x2), grp1.Expected.to_numpy(), color='tab:orange', linewidth=3)\n",
    "ax[0].set_xticks(np.arange(x1,x2))\n",
    "ax[0].set_xlabel('Pure Premium Bin', fontdict={'size':15})\n",
    "ax[0].set_ylabel('Average Claim Amount', fontdict={'size':15})\n",
    "#ax[0].text(1, 315, 'Equal-Width Bins', fontdict={'size':12})\n",
    "\n",
    "\n",
    "x1 = 1\n",
    "x2 = grp2.shape[0]+1\n",
    "ax[1].scatter( np.arange(x1,x2), grp2.Actual.to_list(), color='tab:blue', s=75)\n",
    "ax[1].plot( np.arange(x1,x2), grp2.Actual.to_numpy(), color='tab:blue', linewidth=3)\n",
    "\n",
    "ax[1].scatter( np.arange(x1,x2),  grp2.Expected.to_numpy(), color='tab:orange', s=75)\n",
    "ax[1].plot( np.arange(x1,x2), grp2.Expected.to_numpy(), color='tab:orange', linewidth=3)\n",
    "\n",
    "ax[1].set_xticks(np.arange(x1,x2))\n",
    "ax[1].set_xlabel('Pure Premium Bin', fontdict={'size':15})\n",
    "#ax[1].text(1, 120, 'Equal-Frequency Bins', fontdict={'size':12})\n",
    "\n",
    "plt.show()"
   ]
  },
  {
   "cell_type": "markdown",
   "id": "2062be4d",
   "metadata": {},
   "source": [
    "Example : Gini Index"
   ]
  },
  {
   "cell_type": "code",
   "execution_count": 87,
   "id": "d386c74e",
   "metadata": {},
   "outputs": [
    {
     "data": {
      "image/png": "[encoded data removed]",
      "text/plain": [
       "<Figure size 864x432 with 1 Axes>"
      ]
     },
     "metadata": {
      "needs_background": "light"
     },
     "output_type": "display_data"
    }
   ],
   "source": [
    "fig, ax = plt.subplots(1,1, figsize=(12,6))\n",
    "\n",
    "pp_frac = np.cumsum( grp2.PurePremium.to_numpy() )\n",
    "pp_frac = pp_frac/pp_frac.max()\n",
    "pp_frac = 100 * np.array( [0] + list(pp_frac) )\n",
    "\n",
    "\n",
    "x1 = 0\n",
    "x2 = grp2.shape[0]+1\n",
    "x = np.arange(x1,x2)\n",
    "x = x/x.max()\n",
    "y = 100*x\n",
    "ax.plot( x, y, color='tab:red', linewidth=4)\n",
    "\n",
    "\n",
    "ax.plot( x, pp_frac, color='tab:red', linewidth=4, linestyle='dashed')\n",
    "ax.set_xticks( x )\n",
    "\n",
    "ax.set_xlabel('Proportion of Earned Exposure', fontdict={'size':15})\n",
    "ax.set_ylabel('Proportion of Pure Premium', fontdict={'size':15})\n",
    "ax.set_yticks( np.arange(0,101,10) )\n",
    "ax.set_yticklabels( [str(x)+'%' for x in np.arange(0,101,10)] )\n",
    "ax.grid(True)\n",
    "\n",
    "\n",
    "plt.show()"
   ]
  },
  {
   "cell_type": "markdown",
   "id": "fe356252",
   "metadata": {},
   "source": [
    "Calculate Gini Index"
   ]
  },
  {
   "cell_type": "code",
   "execution_count": 88,
   "id": "0b6074a8",
   "metadata": {},
   "outputs": [],
   "source": [
    "def gini_index(xp,yp,delta):\n",
    "    \n",
    "    dln = len(xp)\n",
    "    \n",
    "    if any(yp > 1.0):\n",
    "        yp = yp/100.\n",
    "    else:\n",
    "        yp = yp\n",
    "\n",
    "    x  = np.arange(0,1,delta)\n",
    "    y  = np.interp(x, xp, yp)\n",
    "\n",
    "    area_b = np.trapz(y, x)\n",
    "    area_a = 0.5-area_b\n",
    "    \n",
    "    gini_index = area_a/(area_a+area_b)\n",
    "    \n",
    "    return  gini_index"
   ]
  },
  {
   "cell_type": "code",
   "execution_count": 89,
   "id": "c4bbee8b",
   "metadata": {},
   "outputs": [
    {
     "data": {
      "text/plain": [
       "0.2360954361840445"
      ]
     },
     "execution_count": 89,
     "metadata": {},
     "output_type": "execute_result"
    }
   ],
   "source": [
    "xp = x\n",
    "yp = pp_frac\n",
    "delta = 0.01\n",
    "gini_index(xp,yp,delta)"
   ]
  },
  {
   "cell_type": "markdown",
   "id": "e6c4ded9",
   "metadata": {},
   "source": [
    "-------------------------------------------------------------------------------------------------"
   ]
  },
  {
   "cell_type": "markdown",
   "id": "e11d2808",
   "metadata": {},
   "source": [
    "## Part 2 : Validation Data"
   ]
  },
  {
   "cell_type": "code",
   "execution_count": 90,
   "id": "fc31921a",
   "metadata": {},
   "outputs": [],
   "source": [
    "data = pd.read_csv('data_purepremium_valid.csv')\n",
    "df = data[['ann_miles','cgroup','tgroup','rateclass','TotLoss','ClaimNum','EarnExpo']]"
   ]
  },
  {
   "cell_type": "markdown",
   "id": "01f22f95",
   "metadata": {},
   "source": [
    "Numerical X"
   ]
  },
  {
   "cell_type": "code",
   "execution_count": 91,
   "id": "8e174537",
   "metadata": {},
   "outputs": [],
   "source": [
    "from sklearn.preprocessing import StandardScaler, MinMaxScaler\n",
    "\n",
    "tmp = df[['ann_miles']]\n",
    "\n",
    "scale = MinMaxScaler()\n",
    "tmp = scale.fit_transform(tmp.values)\n",
    "\n",
    "XN = pd.DataFrame(tmp, columns=['ann_miles'])   # X Numerical"
   ]
  },
  {
   "cell_type": "markdown",
   "id": "ed932feb",
   "metadata": {},
   "source": [
    "Categorical  X"
   ]
  },
  {
   "cell_type": "code",
   "execution_count": 92,
   "id": "8afdd2ec",
   "metadata": {},
   "outputs": [],
   "source": [
    "_x1 = relevel(df, 'cgroup', 'A')\n",
    "_x2 = relevel(df, 'tgroup', 6)\n",
    "_x3 = relevel(df, 'rateclass', 1)"
   ]
  },
  {
   "cell_type": "code",
   "execution_count": 93,
   "id": "d0e5ca79",
   "metadata": {},
   "outputs": [],
   "source": [
    "XC = pd.concat([_x1,_x2], axis=1)               # X categorical "
   ]
  },
  {
   "cell_type": "markdown",
   "id": "93b684dd",
   "metadata": {},
   "source": [
    "Get X"
   ]
  },
  {
   "cell_type": "code",
   "execution_count": 94,
   "id": "9c05b870",
   "metadata": {},
   "outputs": [],
   "source": [
    "_XC_ = pd.get_dummies( XC, drop_first=True )"
   ]
  },
  {
   "cell_type": "code",
   "execution_count": 95,
   "id": "a4bbc934",
   "metadata": {},
   "outputs": [],
   "source": [
    "X = pd.concat([XN,_XC_], axis=1)"
   ]
  },
  {
   "cell_type": "markdown",
   "id": "270db696",
   "metadata": {},
   "source": [
    "Claim Frequency Prediction"
   ]
  },
  {
   "cell_type": "code",
   "execution_count": 96,
   "id": "52e6ae7d",
   "metadata": {},
   "outputs": [
    {
     "data": {
      "text/plain": [
       "array([0.02945336, 0.03951319, 0.03658721, 0.03230491, 0.03114901])"
      ]
     },
     "execution_count": 96,
     "metadata": {},
     "output_type": "execute_result"
    }
   ],
   "source": [
    "y_pred_f = model_frequency.predict(X)\n",
    "y_pred_f[0:5]"
   ]
  },
  {
   "cell_type": "markdown",
   "id": "c78000c7",
   "metadata": {},
   "source": [
    "Summary Statistics of Claim Frequency Prediction"
   ]
  },
  {
   "cell_type": "code",
   "execution_count": 97,
   "id": "766fefa2",
   "metadata": {},
   "outputs": [
    {
     "data": {
      "text/plain": [
       "array([0.02739262, 0.0366113 , 0.04476484, 0.05611082, 0.66234303])"
      ]
     },
     "execution_count": 97,
     "metadata": {},
     "output_type": "execute_result"
    }
   ],
   "source": [
    "np.quantile( y_pred_f, q=(0.0,0.25,0.50,0.75,1.0) )"
   ]
  },
  {
   "cell_type": "markdown",
   "id": "54909e8e",
   "metadata": {},
   "source": [
    "Claim Severity Prediction"
   ]
  },
  {
   "cell_type": "code",
   "execution_count": 98,
   "id": "44efc6ac",
   "metadata": {},
   "outputs": [
    {
     "data": {
      "text/plain": [
       "array([3050.7477176 , 2556.94366856, 3063.30916991, 2594.42088226,\n",
       "       2679.295627  ])"
      ]
     },
     "execution_count": 98,
     "metadata": {},
     "output_type": "execute_result"
    }
   ],
   "source": [
    "y_pred_s = model_severity.predict(X)\n",
    "y_pred_s[0:5]"
   ]
  },
  {
   "cell_type": "markdown",
   "id": "fbbbe14e",
   "metadata": {},
   "source": [
    "Summary Statistics of Claim Severity Prediction"
   ]
  },
  {
   "cell_type": "code",
   "execution_count": 99,
   "id": "4e8921ba",
   "metadata": {
    "scrolled": false
   },
   "outputs": [
    {
     "data": {
      "text/plain": [
       "array([2341.02731656, 2854.72042904, 2958.78539937, 3016.05828708,\n",
       "       3823.73255553])"
      ]
     },
     "execution_count": 99,
     "metadata": {},
     "output_type": "execute_result"
    }
   ],
   "source": [
    "np.quantile( y_pred_s, q=(0.0,0.25,0.50,0.75,1.0) )"
   ]
  },
  {
   "cell_type": "markdown",
   "id": "e3901383",
   "metadata": {},
   "source": [
    "Actual Loss"
   ]
  },
  {
   "cell_type": "code",
   "execution_count": 100,
   "id": "774e2603",
   "metadata": {},
   "outputs": [
    {
     "name": "stdout",
     "output_type": "stream",
     "text": [
      "Actual Loss : 6059796\n"
     ]
    }
   ],
   "source": [
    "loss_actual = df.TotLoss.sum()\n",
    "print('Actual Loss :', round(loss_actual,4) )"
   ]
  },
  {
   "cell_type": "markdown",
   "id": "2b8f4399",
   "metadata": {},
   "source": [
    "Expected Loss"
   ]
  },
  {
   "cell_type": "code",
   "execution_count": 101,
   "id": "2faa3768",
   "metadata": {},
   "outputs": [
    {
     "name": "stdout",
     "output_type": "stream",
     "text": [
      "Expected Loss : 6352501.9606\n"
     ]
    }
   ],
   "source": [
    "\"\"\"Expected Total Loss using Severity\"\"\"\n",
    "loss_expected_s =  y_pred_s * df.ClaimNum\n",
    "\n",
    "print('Expected Loss :', round(loss_expected_s.sum(),4) )"
   ]
  },
  {
   "cell_type": "code",
   "execution_count": 102,
   "id": "9524782b",
   "metadata": {},
   "outputs": [
    {
     "name": "stdout",
     "output_type": "stream",
     "text": [
      "Pure Premium Values   : [89.8548, 101.033, 112.078, 83.8125, 83.4574] \n",
      "\n",
      "Pure Premium Quartile : [81.7901, 102.8431, 128.5588, 166.0955, 2223.2308]\n"
     ]
    }
   ],
   "source": [
    "pure_premium = y_pred_f * y_pred_s\n",
    "\n",
    "print('Pure Premium Values   :', [round(x,4) for x in pure_premium[0:5]], '\\n')\n",
    "\n",
    "q = np.quantile( pure_premium, q=(0.0,0.25,0.50,0.75,1.0) )\n",
    "print('Pure Premium Quartile :', [round(x,4) for x in q] )"
   ]
  },
  {
   "cell_type": "code",
   "execution_count": 103,
   "id": "43d1f98d",
   "metadata": {},
   "outputs": [
    {
     "name": "stdout",
     "output_type": "stream",
     "text": [
      "Expected Loss : 6383504.3197\n"
     ]
    }
   ],
   "source": [
    "y_pred_l = pure_premium * df.EarnExpo.values\n",
    "loss_expected = np.sum( y_pred_l )\n",
    "print('Expected Loss :', round(loss_expected,4) )"
   ]
  },
  {
   "cell_type": "markdown",
   "id": "9d0ca51a",
   "metadata": {},
   "source": [
    "### Model Performance of the Validation Data"
   ]
  },
  {
   "cell_type": "markdown",
   "id": "8d67542e",
   "metadata": {},
   "source": [
    "Example : A/E for Entire Dataset"
   ]
  },
  {
   "cell_type": "code",
   "execution_count": 104,
   "id": "e46b8661",
   "metadata": {},
   "outputs": [
    {
     "data": {
      "text/plain": [
       "0.9492898722236439"
      ]
     },
     "execution_count": 104,
     "metadata": {},
     "output_type": "execute_result"
    }
   ],
   "source": [
    "A_by_E = loss_actual/loss_expected\n",
    "A_by_E"
   ]
  },
  {
   "cell_type": "markdown",
   "id": "3fd311f1",
   "metadata": {},
   "source": [
    "Example : Loss A/E (Data is Grouped by Driver Age)"
   ]
  },
  {
   "cell_type": "code",
   "execution_count": 105,
   "id": "05016532",
   "metadata": {},
   "outputs": [],
   "source": [
    "tmp = df.copy()\n",
    "tmp['PredFrequency'] = y_pred_f\n",
    "tmp['PredSeverity']  = y_pred_s\n",
    "tmp['ExpectedLoss']  = y_pred_l"
   ]
  },
  {
   "cell_type": "code",
   "execution_count": 106,
   "id": "10d0940e",
   "metadata": {},
   "outputs": [],
   "source": [
    "grp1 = tmp.groupby(by=['cgroup'], as_index=True)\n",
    "res1 = grp1.apply(lambda x : \n",
    "                {'A': sum(x.TotLoss), \n",
    "                 'E': sum(x.ExpectedLoss),\n",
    "                 'AE':round(sum(x.TotLoss)/sum(x.ExpectedLoss),2)\n",
    "                })\n",
    "\n",
    "grp2 = tmp.groupby(by=['tgroup'], as_index=True)\n",
    "res2 = grp2.apply(lambda x : \n",
    "                {'A': sum(x.TotLoss), \n",
    "                 'E': sum(x.ExpectedLoss),\n",
    "                 'AE':round(sum(x.TotLoss)/sum(x.ExpectedLoss),2)\n",
    "                })\n",
    "\n",
    "# grp3 = tmp.groupby(by=['rateclass'], as_index=True)\n",
    "# res3 = grp3.apply(lambda x : \n",
    "#                 {'A': sum(x.TotLoss), \n",
    "#                  'E': sum(x.ExpectedLoss),\n",
    "#                  'AE':round(sum(x.TotLoss)/sum(x.ExpectedLoss),2)\n",
    "#                 })\n",
    "\n",
    "\n",
    "y_driver_age =[res1.values[x]['AE'] for x in range(res1.shape[0])]\n",
    "x_driver_age =list(res1.index)\n",
    "\n",
    "y_vehicle_age =[res2.values[x]['AE'] for x in range(res2.shape[0])]\n",
    "x_vehicle_age =list(res2.index)\n",
    "\n",
    "# y_license_year =[res3.values[x]['AE'] for x in range(res3.shape[0])]\n",
    "# x_license_year =list(res3.index)"
   ]
  },
  {
   "cell_type": "code",
   "execution_count": 107,
   "id": "d314ed7a",
   "metadata": {},
   "outputs": [
    {
     "data": {
      "image/png": "[encoded data removed]",
      "text/plain": [
       "<Figure size 1296x432 with 3 Axes>"
      ]
     },
     "metadata": {
      "needs_background": "light"
     },
     "output_type": "display_data"
    }
   ],
   "source": [
    "fig, ax = plt.subplots(1, 3, figsize=(18,6))\n",
    "\n",
    "x = x_driver_age\n",
    "y = np.ones( len(x) )\n",
    "ax[0].plot(x,y, color='black',linestyle='dotted', linewidth=1)\n",
    "ax[0].scatter(x_driver_age, y_driver_age, s=20, color='black')\n",
    "ax[0].plot(x_driver_age, y_driver_age, linestyle='solid')\n",
    "ax[0].set_ylim(-0.,2)\n",
    "ax[0].set_ylabel('Severity  A/E', fontdict={'size':16})\n",
    "ax[0].set_xlabel('Cgroup', fontdict={'size':14})\n",
    "\n",
    "x = x_vehicle_age\n",
    "y = np.ones( len(x) )\n",
    "ax[1].plot(x,y, color='black',linestyle='dotted', linewidth=1)\n",
    "ax[1].scatter(x_vehicle_age, y_vehicle_age, s=20, color='black')\n",
    "ax[1].plot(x_vehicle_age, y_vehicle_age, linestyle='solid')\n",
    "ax[1].set_ylim(-0.1,2)\n",
    "ax[1].set_xlabel('Tgroup', fontdict={'size':14})\n",
    "\n",
    "# x = x_license_year\n",
    "# y = np.ones( len(x) )\n",
    "# ax[2].plot(x,y, color='black',linestyle='dotted', linewidth=1)\n",
    "# ax[2].scatter(x_license_year, y_license_year, s=20, color='black')\n",
    "# ax[2].plot(x_license_year, y_license_year, linestyle='solid')\n",
    "# ax[2].set_ylim(-0.1,2)\n",
    "# ax[2].set_xlabel('Rateclass', fontdict={'size':14})\n",
    "\n",
    "plt.show()"
   ]
  },
  {
   "cell_type": "markdown",
   "id": "7c2559ba",
   "metadata": {},
   "source": [
    "Example : Frequency A/E (Data is Grouped by Variables)"
   ]
  },
  {
   "cell_type": "code",
   "execution_count": 108,
   "id": "30a7e0ea",
   "metadata": {},
   "outputs": [],
   "source": [
    "def frequency_A_by_E(data, feature):\n",
    "    \n",
    "    grp = data.groupby(by=[feature], as_index=True)\n",
    "    \n",
    "    res = grp.apply(lambda x : \n",
    "                {'A': x.ClaimNum.sum()/x.EarnExpo.sum(),         \n",
    "                 'E': (x.PredFrequency*x.EarnExpo).sum()/x.EarnExpo.sum(),   \n",
    "                 'AE':round(x.ClaimNum.sum()/(x.PredFrequency*x.EarnExpo).sum(),2)\n",
    "                })\n",
    "    return res\n",
    "\n",
    "\n",
    "res1 = frequency_A_by_E(tmp, 'cgroup')\n",
    "res2 = frequency_A_by_E(tmp, 'tgroup')\n",
    "res3 = frequency_A_by_E(tmp, 'rateclass')\n",
    "    \n",
    "y_cgroup =[res1.values[x]['AE'] for x in range(res1.shape[0])]\n",
    "x_cgroup =list(res1.index)\n",
    "\n",
    "y_tgroup =[res2.values[x]['AE'] for x in range(res2.shape[0])]\n",
    "x_tgroup =list(res2.index)\n",
    "\n",
    "y_rateclass =[res3.values[x]['AE'] for x in range(res3.shape[0])]\n",
    "x_rateclass =list(res3.index)"
   ]
  },
  {
   "cell_type": "code",
   "execution_count": 109,
   "id": "560960bf",
   "metadata": {},
   "outputs": [
    {
     "data": {
      "image/png": "[encoded data removed]",
      "text/plain": [
       "<Figure size 1296x432 with 3 Axes>"
      ]
     },
     "metadata": {
      "needs_background": "light"
     },
     "output_type": "display_data"
    }
   ],
   "source": [
    "fig, ax = plt.subplots(1, 3, figsize=(18,6))\n",
    "\n",
    "x = x_cgroup\n",
    "y = np.ones( len(x) )\n",
    "ax[0].plot(x,y, color='black',linestyle='dotted', linewidth=1)\n",
    "ax[0].scatter(x_cgroup, y_cgroup, s=20, color='black')\n",
    "ax[0].plot(x_cgroup, y_cgroup, linestyle='solid')\n",
    "ax[0].set_ylim(-0.,2)\n",
    "ax[0].set_ylabel('Frequency  A/E', fontdict={'size':16})\n",
    "ax[0].set_xlabel('Cgroup', fontdict={'size':14})\n",
    "\n",
    "x = x_tgroup\n",
    "y = np.ones( len(x) )\n",
    "ax[1].plot(x,y, color='black',linestyle='dotted', linewidth=1)\n",
    "ax[1].scatter(x_tgroup, y_tgroup, s=20, color='black')\n",
    "ax[1].plot(x_tgroup, y_tgroup, linestyle='solid')\n",
    "ax[1].set_ylim(-0.1,2)\n",
    "ax[1].set_xlabel('Tgroup', fontdict={'size':14})\n",
    "\n",
    "x = x_rateclass\n",
    "y = np.ones( len(x) )\n",
    "ax[2].plot(x,y, color='black',linestyle='dotted', linewidth=1)\n",
    "ax[2].scatter(x_rateclass, y_rateclass, s=20, color='black')\n",
    "ax[2].plot(x_rateclass, y_rateclass, linestyle='solid')\n",
    "ax[2].set_ylim(-0.1,2)\n",
    "ax[2].set_xlabel('Rateclass', fontdict={'size':14})\n",
    "\n",
    "plt.show()"
   ]
  },
  {
   "cell_type": "markdown",
   "id": "a5e8edda",
   "metadata": {},
   "source": [
    "Example : Pure Premium vs Average Claim Amount"
   ]
  },
  {
   "cell_type": "code",
   "execution_count": 110,
   "id": "d0333485",
   "metadata": {},
   "outputs": [],
   "source": [
    "obs_loss = df['TotLoss'].values\n",
    "exposure = df['EarnExpo'].values\n",
    "pure_prm = y_pred_f * y_pred_s\n",
    "exp_loss = y_pred_l\n",
    "\n",
    "tmp =  pd.DataFrame( \n",
    "    np.column_stack((obs_loss, exposure, pure_prm, exp_loss)), \n",
    "    columns=['Actual','Exposure','PurePremium','Expected'])"
   ]
  },
  {
   "cell_type": "code",
   "execution_count": 111,
   "id": "e162b3a9",
   "metadata": {},
   "outputs": [],
   "source": [
    "## General Equal-Width Bins\n",
    "tmp1 = tmp.sort_values(by=['PurePremium'], inplace=False).reset_index(drop=True)\n",
    "\n",
    "nbins = 10\n",
    "ppBins = pd.cut( \n",
    "    tmp1.PurePremium.to_numpy(), \n",
    "    nbins,\n",
    "    right=True, include_lowest=True, \n",
    "    ordered=True)\n",
    "\n",
    "tmp1['ppGroups'] = ppBins\n",
    "\n",
    "grp1 = tmp1.groupby(by=['ppGroups'], as_index=False).agg(\n",
    "    {'Actual':'mean', \n",
    "     'Exposure':'sum', \n",
    "     'PurePremium':'mean', \n",
    "     'Expected': 'mean', \n",
    "     'ppGroups': 'count'\n",
    "    })\n",
    "\n",
    "\n",
    "\n",
    "## Quantile Equal-Frequency  Bins\n",
    "tmp2 = tmp.sort_values(by=['PurePremium'], inplace=False).reset_index(drop=True)\n",
    "\n",
    "nbins = 10\n",
    "ppBins = pd.qcut( \n",
    "    tmp2.PurePremium.to_numpy(), \n",
    "    nbins,\n",
    "    duplicates = 'drop')\n",
    "\n",
    "tmp2['ppGroups'] = ppBins\n",
    "\n",
    "grp2 = tmp2.groupby(by=['ppGroups'], as_index=False).agg(\n",
    "    {'Actual':'mean', \n",
    "     'Exposure':'sum', \n",
    "     'PurePremium':'mean', \n",
    "     'Expected': 'mean',\n",
    "     'ppGroups': 'count'\n",
    "    })"
   ]
  },
  {
   "cell_type": "code",
   "execution_count": 112,
   "id": "fd31ece9",
   "metadata": {},
   "outputs": [
    {
     "data": {
      "image/png": "[encoded data removed]",
      "text/plain": [
       "<Figure size 1296x432 with 2 Axes>"
      ]
     },
     "metadata": {
      "needs_background": "light"
     },
     "output_type": "display_data"
    }
   ],
   "source": [
    "fig, ax = plt.subplots(1,2, figsize=(18,6))\n",
    "\n",
    "x1 = 1\n",
    "x2 = grp1.shape[0]+1\n",
    "ax[0].scatter( np.arange(x1,x2), grp1.Actual.to_list(), color='tab:blue', s=75)\n",
    "ax[0].plot( np.arange(x1,x2), grp1.Actual.to_numpy(), color='tab:blue', linewidth=3)\n",
    "ax[0].scatter( np.arange(x1,x2),  grp1.Expected.to_numpy(), color='tab:orange', s=75)\n",
    "ax[0].plot( np.arange(x1,x2), grp1.Expected.to_numpy(), color='tab:orange', linewidth=3)\n",
    "ax[0].set_xticks(np.arange(x1,x2))\n",
    "ax[0].set_xlabel('Pure Premium Bin', fontdict={'size':15})\n",
    "ax[0].set_ylabel('Average Claim Amount', fontdict={'size':15})\n",
    "#ax[0].text(1, 315, 'Equal-Width Bins', fontdict={'size':12})\n",
    "\n",
    "\n",
    "x1 = 1\n",
    "x2 = grp2.shape[0]+1\n",
    "ax[1].scatter( np.arange(x1,x2), grp2.Actual.to_list(), color='tab:blue', s=75)\n",
    "ax[1].plot( np.arange(x1,x2), grp2.Actual.to_numpy(), color='tab:blue', linewidth=3)\n",
    "\n",
    "ax[1].scatter( np.arange(x1,x2),  grp2.Expected.to_numpy(), color='tab:orange', s=75)\n",
    "ax[1].plot( np.arange(x1,x2), grp2.Expected.to_numpy(), color='tab:orange', linewidth=3)\n",
    "\n",
    "ax[1].set_xticks(np.arange(x1,x2))\n",
    "ax[1].set_xlabel('Pure Premium Bin', fontdict={'size':15})\n",
    "#ax[1].text(1, 120, 'Equal-Frequency Bins', fontdict={'size':12})\n",
    "\n",
    "plt.show()"
   ]
  },
  {
   "cell_type": "markdown",
   "id": "246cfcf6",
   "metadata": {},
   "source": [
    "Example : Gini Index"
   ]
  },
  {
   "cell_type": "code",
   "execution_count": 113,
   "id": "cb9e8263",
   "metadata": {},
   "outputs": [
    {
     "data": {
      "image/png": "[encoded data removed]",
      "text/plain": [
       "<Figure size 864x432 with 1 Axes>"
      ]
     },
     "metadata": {
      "needs_background": "light"
     },
     "output_type": "display_data"
    }
   ],
   "source": [
    "fig, ax = plt.subplots(1,1, figsize=(12,6))\n",
    "\n",
    "pp_frac = np.cumsum( grp2.PurePremium.to_numpy() )\n",
    "pp_frac = pp_frac/pp_frac.max()\n",
    "pp_frac = 100 * np.array( [0] + list(pp_frac) )\n",
    "\n",
    "\n",
    "x1 = 0\n",
    "x2 = grp2.shape[0]+1\n",
    "x = np.arange(x1,x2)\n",
    "x = x/x.max()\n",
    "y = 100*x\n",
    "ax.plot( x, y, color='tab:red', linewidth=4)\n",
    "\n",
    "\n",
    "ax.plot( x, pp_frac, color='tab:red', linewidth=4, linestyle='dashed')\n",
    "ax.set_xticks( x )\n",
    "\n",
    "ax.set_xlabel('Proportion of Earned Exposure', fontdict={'size':15})\n",
    "ax.set_ylabel('Proportion of Pure Premium', fontdict={'size':15})\n",
    "ax.set_yticks( np.arange(0,101,10) )\n",
    "ax.set_yticklabels( [str(x)+'%' for x in np.arange(0,101,10)] )\n",
    "ax.grid(True)\n",
    "\n",
    "\n",
    "plt.show()"
   ]
  },
  {
   "cell_type": "code",
   "execution_count": 114,
   "id": "a5cf726f",
   "metadata": {},
   "outputs": [
    {
     "data": {
      "text/plain": [
       "0.23659638235178848"
      ]
     },
     "execution_count": 114,
     "metadata": {},
     "output_type": "execute_result"
    }
   ],
   "source": [
    "xp = x\n",
    "yp = pp_frac\n",
    "delta = 0.01\n",
    "gini_index(xp,yp,delta)"
   ]
  },
  {
   "cell_type": "markdown",
   "id": "c7b11eb9",
   "metadata": {},
   "source": [
    "## Check  by Hand"
   ]
  },
  {
   "cell_type": "code",
   "execution_count": 115,
   "id": "51795ee3",
   "metadata": {},
   "outputs": [],
   "source": [
    "from functools import reduce"
   ]
  },
  {
   "cell_type": "code",
   "execution_count": 116,
   "id": "ea8e88e5",
   "metadata": {},
   "outputs": [
    {
     "data": {
      "text/html": [
       "<div>\n",
       "<style scoped>\n",
       "    .dataframe tbody tr th:only-of-type {\n",
       "        vertical-align: middle;\n",
       "    }\n",
       "\n",
       "    .dataframe tbody tr th {\n",
       "        vertical-align: top;\n",
       "    }\n",
       "\n",
       "    .dataframe thead th {\n",
       "        text-align: right;\n",
       "    }\n",
       "</style>\n",
       "<table border=\"1\" class=\"dataframe\">\n",
       "  <thead>\n",
       "    <tr style=\"text-align: right;\">\n",
       "      <th></th>\n",
       "      <th>Feature</th>\n",
       "      <th>Estimate</th>\n",
       "      <th>Relativity</th>\n",
       "    </tr>\n",
       "  </thead>\n",
       "  <tbody>\n",
       "    <tr>\n",
       "      <th>0</th>\n",
       "      <td>intercept</td>\n",
       "      <td>-2.83189183</td>\n",
       "      <td>0.05890132</td>\n",
       "    </tr>\n",
       "    <tr>\n",
       "      <th>1</th>\n",
       "      <td>ann_miles</td>\n",
       "      <td>1.45303077</td>\n",
       "      <td>4.27605463</td>\n",
       "    </tr>\n",
       "    <tr>\n",
       "      <th>2</th>\n",
       "      <td>cgroup_A</td>\n",
       "      <td>0.0</td>\n",
       "      <td>1.0</td>\n",
       "    </tr>\n",
       "    <tr>\n",
       "      <th>3</th>\n",
       "      <td>cgroup_B</td>\n",
       "      <td>0.29813267</td>\n",
       "      <td>1.34734053</td>\n",
       "    </tr>\n",
       "    <tr>\n",
       "      <th>4</th>\n",
       "      <td>cgroup_I</td>\n",
       "      <td>1.00945298</td>\n",
       "      <td>2.74409953</td>\n",
       "    </tr>\n",
       "    <tr>\n",
       "      <th>5</th>\n",
       "      <td>cgroup_M</td>\n",
       "      <td>0.50729838</td>\n",
       "      <td>1.66079828</td>\n",
       "    </tr>\n",
       "    <tr>\n",
       "      <th>6</th>\n",
       "      <td>cgroup_S</td>\n",
       "      <td>-0.0109676</td>\n",
       "      <td>0.98909232</td>\n",
       "    </tr>\n",
       "    <tr>\n",
       "      <th>7</th>\n",
       "      <td>tgroup_6</td>\n",
       "      <td>0.0</td>\n",
       "      <td>1.0</td>\n",
       "    </tr>\n",
       "    <tr>\n",
       "      <th>8</th>\n",
       "      <td>tgroup_1</td>\n",
       "      <td>-0.7552919</td>\n",
       "      <td>0.46987344</td>\n",
       "    </tr>\n",
       "    <tr>\n",
       "      <th>9</th>\n",
       "      <td>tgroup_2</td>\n",
       "      <td>-0.62720565</td>\n",
       "      <td>0.53408213</td>\n",
       "    </tr>\n",
       "    <tr>\n",
       "      <th>10</th>\n",
       "      <td>tgroup_3</td>\n",
       "      <td>-0.58067061</td>\n",
       "      <td>0.55952302</td>\n",
       "    </tr>\n",
       "    <tr>\n",
       "      <th>11</th>\n",
       "      <td>tgroup_4</td>\n",
       "      <td>-0.4089584</td>\n",
       "      <td>0.66434187</td>\n",
       "    </tr>\n",
       "    <tr>\n",
       "      <th>12</th>\n",
       "      <td>tgroup_5</td>\n",
       "      <td>-0.23809178</td>\n",
       "      <td>0.78813035</td>\n",
       "    </tr>\n",
       "  </tbody>\n",
       "</table>\n",
       "</div>"
      ],
      "text/plain": [
       "      Feature     Estimate  Relativity\n",
       "0   intercept  -2.83189183  0.05890132\n",
       "1   ann_miles   1.45303077  4.27605463\n",
       "2    cgroup_A          0.0         1.0\n",
       "3    cgroup_B   0.29813267  1.34734053\n",
       "4    cgroup_I   1.00945298  2.74409953\n",
       "5    cgroup_M   0.50729838  1.66079828\n",
       "6    cgroup_S   -0.0109676  0.98909232\n",
       "7    tgroup_6          0.0         1.0\n",
       "8    tgroup_1   -0.7552919  0.46987344\n",
       "9    tgroup_2  -0.62720565  0.53408213\n",
       "10   tgroup_3  -0.58067061  0.55952302\n",
       "11   tgroup_4   -0.4089584  0.66434187\n",
       "12   tgroup_5  -0.23809178  0.78813035"
      ]
     },
     "execution_count": 116,
     "metadata": {},
     "output_type": "execute_result"
    }
   ],
   "source": [
    "_bf"
   ]
  },
  {
   "cell_type": "code",
   "execution_count": 117,
   "id": "a2f12a11",
   "metadata": {},
   "outputs": [
    {
     "data": {
      "text/html": [
       "<div>\n",
       "<style scoped>\n",
       "    .dataframe tbody tr th:only-of-type {\n",
       "        vertical-align: middle;\n",
       "    }\n",
       "\n",
       "    .dataframe tbody tr th {\n",
       "        vertical-align: top;\n",
       "    }\n",
       "\n",
       "    .dataframe thead th {\n",
       "        text-align: right;\n",
       "    }\n",
       "</style>\n",
       "<table border=\"1\" class=\"dataframe\">\n",
       "  <thead>\n",
       "    <tr style=\"text-align: right;\">\n",
       "      <th></th>\n",
       "      <th>Feature</th>\n",
       "      <th>Estimate</th>\n",
       "      <th>Relativity</th>\n",
       "    </tr>\n",
       "  </thead>\n",
       "  <tbody>\n",
       "    <tr>\n",
       "      <th>0</th>\n",
       "      <td>intercept</td>\n",
       "      <td>7.99923723</td>\n",
       "      <td>2978.68506869</td>\n",
       "    </tr>\n",
       "    <tr>\n",
       "      <th>1</th>\n",
       "      <td>ann_miles</td>\n",
       "      <td>-0.10497005</td>\n",
       "      <td>0.90035149</td>\n",
       "    </tr>\n",
       "    <tr>\n",
       "      <th>2</th>\n",
       "      <td>cgroup_A</td>\n",
       "      <td>0.0</td>\n",
       "      <td>1.0</td>\n",
       "    </tr>\n",
       "    <tr>\n",
       "      <th>3</th>\n",
       "      <td>cgroup_B</td>\n",
       "      <td>0.02248188</td>\n",
       "      <td>1.0227365</td>\n",
       "    </tr>\n",
       "    <tr>\n",
       "      <th>4</th>\n",
       "      <td>cgroup_I</td>\n",
       "      <td>0.22134636</td>\n",
       "      <td>1.24775553</td>\n",
       "    </tr>\n",
       "    <tr>\n",
       "      <th>5</th>\n",
       "      <td>cgroup_M</td>\n",
       "      <td>-0.01371668</td>\n",
       "      <td>0.98637696</td>\n",
       "    </tr>\n",
       "    <tr>\n",
       "      <th>6</th>\n",
       "      <td>cgroup_S</td>\n",
       "      <td>0.03035065</td>\n",
       "      <td>1.03081593</td>\n",
       "    </tr>\n",
       "    <tr>\n",
       "      <th>7</th>\n",
       "      <td>tgroup_6</td>\n",
       "      <td>0.0</td>\n",
       "      <td>1.0</td>\n",
       "    </tr>\n",
       "    <tr>\n",
       "      <th>8</th>\n",
       "      <td>tgroup_1</td>\n",
       "      <td>0.02840085</td>\n",
       "      <td>1.028808</td>\n",
       "    </tr>\n",
       "    <tr>\n",
       "      <th>9</th>\n",
       "      <td>tgroup_2</td>\n",
       "      <td>-0.13619976</td>\n",
       "      <td>0.87266829</td>\n",
       "    </tr>\n",
       "    <tr>\n",
       "      <th>10</th>\n",
       "      <td>tgroup_3</td>\n",
       "      <td>0.00600523</td>\n",
       "      <td>1.0060233</td>\n",
       "    </tr>\n",
       "    <tr>\n",
       "      <th>11</th>\n",
       "      <td>tgroup_4</td>\n",
       "      <td>-0.0280276</td>\n",
       "      <td>0.97236153</td>\n",
       "    </tr>\n",
       "    <tr>\n",
       "      <th>12</th>\n",
       "      <td>tgroup_5</td>\n",
       "      <td>0.01956221</td>\n",
       "      <td>1.0197548</td>\n",
       "    </tr>\n",
       "  </tbody>\n",
       "</table>\n",
       "</div>"
      ],
      "text/plain": [
       "      Feature     Estimate     Relativity\n",
       "0   intercept   7.99923723  2978.68506869\n",
       "1   ann_miles  -0.10497005     0.90035149\n",
       "2    cgroup_A          0.0            1.0\n",
       "3    cgroup_B   0.02248188      1.0227365\n",
       "4    cgroup_I   0.22134636     1.24775553\n",
       "5    cgroup_M  -0.01371668     0.98637696\n",
       "6    cgroup_S   0.03035065     1.03081593\n",
       "7    tgroup_6          0.0            1.0\n",
       "8    tgroup_1   0.02840085       1.028808\n",
       "9    tgroup_2  -0.13619976     0.87266829\n",
       "10   tgroup_3   0.00600523      1.0060233\n",
       "11   tgroup_4   -0.0280276     0.97236153\n",
       "12   tgroup_5   0.01956221      1.0197548"
      ]
     },
     "execution_count": 117,
     "metadata": {},
     "output_type": "execute_result"
    }
   ],
   "source": [
    "_bs"
   ]
  },
  {
   "cell_type": "code",
   "execution_count": 118,
   "id": "158de21b",
   "metadata": {},
   "outputs": [
    {
     "data": {
      "text/html": [
       "<div>\n",
       "<style scoped>\n",
       "    .dataframe tbody tr th:only-of-type {\n",
       "        vertical-align: middle;\n",
       "    }\n",
       "\n",
       "    .dataframe tbody tr th {\n",
       "        vertical-align: top;\n",
       "    }\n",
       "\n",
       "    .dataframe thead th {\n",
       "        text-align: right;\n",
       "    }\n",
       "</style>\n",
       "<table border=\"1\" class=\"dataframe\">\n",
       "  <thead>\n",
       "    <tr style=\"text-align: right;\">\n",
       "      <th></th>\n",
       "      <th>ann_miles</th>\n",
       "      <th>cgroup</th>\n",
       "      <th>tgroup</th>\n",
       "    </tr>\n",
       "  </thead>\n",
       "  <tbody>\n",
       "    <tr>\n",
       "      <th>0</th>\n",
       "      <td>0.042832</td>\n",
       "      <td>A</td>\n",
       "      <td>1</td>\n",
       "    </tr>\n",
       "    <tr>\n",
       "      <th>1</th>\n",
       "      <td>0.156897</td>\n",
       "      <td>A</td>\n",
       "      <td>2</td>\n",
       "    </tr>\n",
       "    <tr>\n",
       "      <th>2</th>\n",
       "      <td>0.079471</td>\n",
       "      <td>S</td>\n",
       "      <td>3</td>\n",
       "    </tr>\n",
       "    <tr>\n",
       "      <th>3</th>\n",
       "      <td>0.018280</td>\n",
       "      <td>A</td>\n",
       "      <td>2</td>\n",
       "    </tr>\n",
       "    <tr>\n",
       "      <th>4</th>\n",
       "      <td>0.000752</td>\n",
       "      <td>S</td>\n",
       "      <td>2</td>\n",
       "    </tr>\n",
       "  </tbody>\n",
       "</table>\n",
       "</div>"
      ],
      "text/plain": [
       "   ann_miles cgroup tgroup\n",
       "0   0.042832      A      1\n",
       "1   0.156897      A      2\n",
       "2   0.079471      S      3\n",
       "3   0.018280      A      2\n",
       "4   0.000752      S      2"
      ]
     },
     "execution_count": 118,
     "metadata": {},
     "output_type": "execute_result"
    }
   ],
   "source": [
    "X = pd.concat([XN,XC], axis=1)\n",
    "X.head()"
   ]
  },
  {
   "cell_type": "code",
   "execution_count": 119,
   "id": "6ded5744",
   "metadata": {},
   "outputs": [
    {
     "data": {
      "text/plain": [
       "array([0.02945336, 0.03951319, 0.03658721])"
      ]
     },
     "execution_count": 119,
     "metadata": {},
     "output_type": "execute_result"
    }
   ],
   "source": [
    "y_pred_f[0:3]"
   ]
  },
  {
   "cell_type": "code",
   "execution_count": 120,
   "id": "7d692797",
   "metadata": {},
   "outputs": [
    {
     "data": {
      "text/plain": [
       "array([3050.7477176 , 2556.94366856, 3063.30916991])"
      ]
     },
     "execution_count": 120,
     "metadata": {},
     "output_type": "execute_result"
    }
   ],
   "source": [
    "y_pred_s[0:3]"
   ]
  },
  {
   "cell_type": "code",
   "execution_count": 121,
   "id": "5bdc2b0e",
   "metadata": {},
   "outputs": [
    {
     "data": {
      "text/plain": [
       "array([ 89.85476142, 101.03299141, 112.0779502 ])"
      ]
     },
     "execution_count": 121,
     "metadata": {},
     "output_type": "execute_result"
    }
   ],
   "source": [
    "pure_premium[0:3]"
   ]
  },
  {
   "cell_type": "code",
   "execution_count": 122,
   "id": "977bf46f",
   "metadata": {},
   "outputs": [],
   "source": [
    "# X = pd.concat([XN,XC], axis=1)\n",
    "# X = pd.get_dummies(X, drop_first=False)\n",
    "# x = X.iloc[0, :].values\n",
    "\n",
    "# bf  = _bf.Estimate.astype(float).values\n",
    "# bf0 = bf[0]\n",
    "# bf1 = bf[1:]\n",
    "\n",
    "# bs  = _bs.Estimate.astype(float).values\n",
    "# bs0 = bs[0]\n",
    "# bs1 = bs[1:]\n",
    "\n",
    "# f = np.exp(bf0) * reduce( lambda x,y : x*y, np.exp(x*bf1))\n",
    "# s = np.exp(bs0) * reduce( lambda x,y : x*y, np.exp(x*bs1))\n",
    "# print(f)\n",
    "# print(s)\n",
    "# print('pure premium :', f*s)"
   ]
  },
  {
   "cell_type": "code",
   "execution_count": 123,
   "id": "946681dd",
   "metadata": {},
   "outputs": [],
   "source": [
    "# bf  = _bf.Relativity.astype(float).values\n",
    "# bf0 = bf[0]\n",
    "# bf1 = bf[1:]\n",
    "# bf1[0] = np.exp( np.log(bf1[0])*0.042832 )\n",
    "\n",
    "# bs  = _bs.Relativity.astype(float).values\n",
    "# bs0 = bs[0]\n",
    "# bs1 = bs[1:]\n",
    "# bs1[0] = np.exp( np.log(bs1[0])*0.042832 )"
   ]
  },
  {
   "cell_type": "code",
   "execution_count": 124,
   "id": "0d60a05c",
   "metadata": {},
   "outputs": [],
   "source": [
    "# m = [e for e in x*bf1 if e>0]\n",
    "# f = bf0 * reduce( lambda x,y : x*y, m)\n",
    "# m = [e for e in x*bs1 if e>0]\n",
    "# s = bs0 * reduce( lambda x,y : x*y, m)"
   ]
  },
  {
   "cell_type": "markdown",
   "id": "431681f9",
   "metadata": {},
   "source": [
    "Row 1"
   ]
  },
  {
   "cell_type": "code",
   "execution_count": 125,
   "id": "a0669808",
   "metadata": {},
   "outputs": [
    {
     "data": {
      "text/plain": [
       "0.02945335477986774"
      ]
     },
     "execution_count": 125,
     "metadata": {},
     "output_type": "execute_result"
    }
   ],
   "source": [
    "base_frequency         = 0.05890132\n",
    "ratingclass_relativity = 1.0\n",
    "territory_relativity   = 0.46987344\n",
    "milage_coefficient     = np.log(4.27605463)\n",
    "\n",
    "freq =  base_frequency * ratingclass_relativity * territory_relativity \n",
    "freq = freq * np.exp( milage_coefficient *  0.042832 )\n",
    "freq"
   ]
  },
  {
   "cell_type": "code",
   "execution_count": 126,
   "id": "b62ea0d3",
   "metadata": {},
   "outputs": [
    {
     "data": {
      "text/plain": [
       "3050.7477498829603"
      ]
     },
     "execution_count": 126,
     "metadata": {},
     "output_type": "execute_result"
    }
   ],
   "source": [
    "base_severity          = 2978.68506869\n",
    "ratingclass_relativity = 1.0\n",
    "territory_relativity   = 1.028808\n",
    "milage_coefficient     = np.log(0.90035149)\n",
    "\n",
    "severity = base_severity * ratingclass_relativity * territory_relativity \n",
    "severity = severity * np.exp( milage_coefficient * 0.042832 )\n",
    "severity"
   ]
  },
  {
   "cell_type": "code",
   "execution_count": 127,
   "id": "3875624d",
   "metadata": {},
   "outputs": [
    {
     "data": {
      "text/plain": [
       "89.85475582118605"
      ]
     },
     "execution_count": 127,
     "metadata": {},
     "output_type": "execute_result"
    }
   ],
   "source": [
    "freq * severity"
   ]
  },
  {
   "cell_type": "markdown",
   "id": "bb1b99ff",
   "metadata": {},
   "source": [
    "Row 2"
   ]
  },
  {
   "cell_type": "code",
   "execution_count": 128,
   "id": "09b1155e",
   "metadata": {},
   "outputs": [
    {
     "data": {
      "text/plain": [
       "0.03951316942449296"
      ]
     },
     "execution_count": 128,
     "metadata": {},
     "output_type": "execute_result"
    }
   ],
   "source": [
    "base_frequency         = 0.05890132\n",
    "ratingclass_relativity = 1.0\n",
    "territory_relativity   = 0.53408213\n",
    "milage_coefficient     = np.log(4.27605463)\n",
    "\n",
    "freq =  base_frequency * ratingclass_relativity * territory_relativity \n",
    "freq = freq * np.exp( milage_coefficient * 0.156897 )\n",
    "freq"
   ]
  },
  {
   "cell_type": "code",
   "execution_count": 129,
   "id": "8c81ea85",
   "metadata": {},
   "outputs": [
    {
     "data": {
      "text/plain": [
       "2556.943767563325"
      ]
     },
     "execution_count": 129,
     "metadata": {},
     "output_type": "execute_result"
    }
   ],
   "source": [
    "base_severity          = 2978.68506869\n",
    "ratingclass_relativity = 1.0\n",
    "territory_relativity   = 0.87266829\n",
    "milage_coefficient     = np.log(0.90035149)\n",
    "\n",
    "severity = base_severity * ratingclass_relativity * territory_relativity \n",
    "severity = severity * np.exp( milage_coefficient * 0.156897 )\n",
    "severity"
   ]
  },
  {
   "cell_type": "code",
   "execution_count": 130,
   "id": "6721b14c",
   "metadata": {},
   "outputs": [
    {
     "data": {
      "text/plain": [
       "101.03295229663101"
      ]
     },
     "execution_count": 130,
     "metadata": {},
     "output_type": "execute_result"
    }
   ],
   "source": [
    "freq * severity"
   ]
  }
 ],
 "metadata": {
  "kernelspec": {
   "display_name": "Python 3 (ipykernel)",
   "language": "python",
   "name": "python3"
  },
  "language_info": {
   "codemirror_mode": {
    "name": "ipython",
    "version": 3
   },
   "file_extension": ".py",
   "mimetype": "text/x-python",
   "name": "python",
   "nbconvert_exporter": "python",
   "pygments_lexer": "ipython3",
   "version": "3.10.8"
  }
 },
 "nbformat": 4,
 "nbformat_minor": 5
}
